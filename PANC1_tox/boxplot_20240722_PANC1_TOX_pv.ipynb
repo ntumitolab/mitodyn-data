{
 "cells": [
  {
   "cell_type": "code",
   "execution_count": 1,
   "metadata": {},
   "outputs": [
    {
     "name": "stdout",
     "output_type": "stream",
     "text": [
      "3.12.4\n"
     ]
    }
   ],
   "source": [
    "from platform import python_version\n",
    "print(python_version())"
   ]
  },
  {
   "cell_type": "code",
   "execution_count": 2,
   "metadata": {},
   "outputs": [],
   "source": [
    "import xlwings as xw\n",
    "import numpy as np\n",
    "import pandas as pd\n",
    "import os, os.path\n",
    "import matplotlib.pyplot as plt\n",
    "import seaborn as sns\n",
    "from scipy import stats\n",
    "from outliers import smirnov_grubbs as grubbs"
   ]
  },
  {
   "cell_type": "code",
   "execution_count": 3,
   "metadata": {},
   "outputs": [
    {
     "data": {
      "text/plain": [
       "'d:\\\\github\\\\mitodyn-data\\\\1229_PANC1_tox'"
      ]
     },
     "execution_count": 3,
     "metadata": {},
     "output_type": "execute_result"
    }
   ],
   "source": [
    "os.getcwd()"
   ]
  },
  {
   "cell_type": "code",
   "execution_count": 6,
   "metadata": {},
   "outputs": [],
   "source": [
    "def formatpv(pv, threshold=1E-4):\n",
    "    if pv > threshold:\n",
    "        return str(f'P={pv:.4f}')\n",
    "    else:\n",
    "        return str(f'P={pv:.2E}')"
   ]
  },
  {
   "cell_type": "markdown",
   "metadata": {},
   "source": [
    "## Plot Function"
   ]
  },
  {
   "cell_type": "code",
   "execution_count": 17,
   "metadata": {},
   "outputs": [],
   "source": [
    "def Plot4_seaborn(in_data, name, unit, group, savedir='boxplot'):\n",
    "    mydata = in_data\n",
    "    # data = [temp_data_0X, temp_data_025X, temp_data_05X, temp_data_1X, temp_data_2X]\n",
    "    # data = [grubbs.test(in_data[0], alpha=0.05), grubbs.test(in_data[1], alpha=0.05),\n",
    "    #         grubbs.test(in_data[2], alpha=0.05), grubbs.test(in_data[3], alpha=0.05)]\n",
    "    max_value = np.amax([np.amax(mydata[0]), np.amax(mydata[1]), np.amax(mydata[2]), np.amax(mydata[3])])\n",
    "    numBoxes = 4\n",
    "    fig1, ax1 = plt.subplots(figsize=(6, 9), dpi=300)\n",
    "    sns.boxplot(data = mydata, linewidth=3, showfliers=False)\n",
    "    sns.swarmplot(data = mydata, color=\".25\", size=6)\n",
    "    if (name == \"Average Branch Length\") or (name == \"Branch Length Per Mito\"):\n",
    "        ax1.set_title(name, size = 24, fontweight='bold')\n",
    "    elif name == \"Max Area / Total Area\":\n",
    "        ax1.set_title(name, size = 24, fontweight='bold')\n",
    "    else :\n",
    "        ax1.set_title(name, size = 34, fontweight='bold')\n",
    "\n",
    "    #ax1.set_aspect(3/max_value)\n",
    "    if unit == 'area':\n",
    "        plt.ylabel(r\"Area ($\\mathbf{\\mu m^2}$)\", size = 20, fontweight='bold', labelpad=10)\n",
    "    elif unit == 'length':\n",
    "        plt.ylabel(r\"Length ($\\mathbf{\\mu m}$)\", size = 20, fontweight='bold', labelpad=10)\n",
    "    elif unit == 'count':\n",
    "        plt.ylabel(r\"Count\", size = 20, fontweight='bold', labelpad=10)\n",
    "    elif unit == 'a.u.':\n",
    "        plt.ylabel(\"a.u.\", size = 20, fontweight='bold', labelpad=10)\n",
    "    elif unit == 'ratio':\n",
    "        plt.ylabel(\"Ratio (a.u.)\", size = 20, fontweight='bold', labelpad=10)\n",
    "    elif unit == 'normalized count':\n",
    "        plt.ylabel(r\"1 / $\\mathbf{\\mu m^2}$\", size = 20, fontweight='bold', labelpad=10)\n",
    "    #plt.yticks(size = 25, fontweight='bold')\n",
    "    plt.xticks([0., 1., 2., 3.], [\"Control\", \"FCCP\", \"Oligomycin\", \"Rotenone\"], size = 20, fontweight='bold', rotation=30, ha='right')\n",
    "    plt.yticks(size = 25, fontweight='bold')\n",
    "\n",
    "    print(f'Levena for {name} = {stats.levene(mydata[0], mydata[1], mydata[2], mydata[3])}')\n",
    "    print(f'ANOVA for {name} = {stats.f_oneway(mydata[0], mydata[1], mydata[2], mydata[3])}')\n",
    "\n",
    "    # 0 vs 1\n",
    "    pv = stats.ttest_ind(mydata[0], mydata[1], equal_var = False).pvalue\n",
    "    print(f'P-value between group 0 and 1: {pv}')\n",
    "    if pv <= 0.05:\n",
    "        bar_start = max_value * 1.04\n",
    "        barh = max_value * 0.02\n",
    "        left_x = 0\n",
    "        right_x = 0.95\n",
    "        barx = [left_x, left_x, right_x, right_x]\n",
    "        bary = [bar_start, bar_start+barh, bar_start+barh, bar_start]\n",
    "        mid = ((left_x+right_x)/2, bar_start+barh)\n",
    "        plt.plot(barx, bary, c='black', linewidth=5)\n",
    "        kwargs = dict(ha='center', va='bottom', fontsize='13')\n",
    "        plt.text(*mid, formatpv(pv), **kwargs)\n",
    "\n",
    "    # 1 vs 2\n",
    "    pv = stats.ttest_ind(mydata[1], mydata[2], equal_var = False).pvalue\n",
    "    print(f'P-value between group 1 and 2: {pv}')\n",
    "    if pv <= 0.05:\n",
    "        bar_start = max_value * 1.04\n",
    "        barh = max_value * 0.02\n",
    "        left_x = 1.05\n",
    "        right_x = 1.95\n",
    "        barx = [left_x, left_x, right_x, right_x]\n",
    "        bary = [bar_start, bar_start+barh, bar_start+barh, bar_start]\n",
    "        mid = ((left_x+right_x)/2, bar_start+barh)\n",
    "        plt.plot(barx, bary, c='black', linewidth=5)\n",
    "        kwargs = dict(ha='center', va='bottom', fontsize='13')\n",
    "        plt.text(*mid, formatpv(pv), **kwargs)\n",
    "\n",
    "    # 2 vs 3\n",
    "    pv = stats.ttest_ind(mydata[2], mydata[3], equal_var = False).pvalue\n",
    "    print(f'P-value between group 2 and 3: {pv}')\n",
    "    if pv <= 0.05:\n",
    "        bar_start = max_value * 1.04\n",
    "        barh = max_value * 0.02\n",
    "        left_x = 2.05\n",
    "        right_x = 2.95\n",
    "        barx = [left_x, left_x, right_x, right_x]\n",
    "        bary = [bar_start, bar_start+barh, bar_start+barh, bar_start]\n",
    "        mid = ((left_x+right_x)/2, bar_start+barh)\n",
    "        plt.plot(barx, bary, c='black', linewidth=5)\n",
    "        kwargs = dict(ha='center', va='bottom', fontsize='13')\n",
    "        plt.text(*mid, formatpv(pv), **kwargs)\n",
    "\n",
    "    # 0 vs 2\n",
    "    pv = stats.ttest_ind(mydata[0], mydata[2], equal_var = False).pvalue\n",
    "    print(f'P-value between group 0 and 2: {pv}')\n",
    "    if pv <= 0.05:\n",
    "        bar_start = max_value * 1.12\n",
    "        barh = max_value * 0.02\n",
    "        left_x = 0\n",
    "        right_x = 1.95\n",
    "        barx = [left_x, left_x, right_x, right_x]\n",
    "        bary = [bar_start, bar_start+barh, bar_start+barh, bar_start]\n",
    "        mid = ((left_x+right_x)/2, bar_start+barh)\n",
    "        plt.plot(barx, bary, c='black', linewidth=5)\n",
    "        kwargs = dict(ha='center', va='bottom', fontsize='13')\n",
    "        plt.text(*mid, formatpv(pv), **kwargs)\n",
    "\n",
    "    # 1 vs 3\n",
    "    pv = stats.ttest_ind(mydata[1], mydata[3], equal_var = False).pvalue\n",
    "    print(f'P-value between group 1 and 3: {pv}')\n",
    "    if pv <= 0.05:\n",
    "        bar_start = max_value * 1.20\n",
    "        barh = max_value * 0.02\n",
    "        left_x = 1\n",
    "        right_x = 2.95\n",
    "        barx = [left_x, left_x, right_x, right_x]\n",
    "        bary = [bar_start, bar_start+barh, bar_start+barh, bar_start]\n",
    "        mid = ((left_x+right_x)/2, bar_start+barh)\n",
    "        plt.plot(barx, bary, c='black', linewidth=5)\n",
    "        kwargs = dict(ha='center', va='bottom', fontsize='13')\n",
    "        plt.text(*mid, formatpv(pv), **kwargs)\n",
    "\n",
    "\n",
    "    # 0 vs 3\n",
    "    pv = stats.ttest_ind(mydata[0], mydata[3], equal_var = False).pvalue\n",
    "    print(f'P-value between group 0 and 3: {pv}')\n",
    "    if pv <= 0.05:\n",
    "        bar_start = max_value * 1.28\n",
    "        barh = max_value * 0.02\n",
    "        left_x = 0\n",
    "        right_x = 2.95\n",
    "        barx = [left_x, left_x, right_x, right_x]\n",
    "        bary = [bar_start, bar_start+barh, bar_start+barh, bar_start]\n",
    "        mid = ((left_x+right_x)/2, bar_start+barh)\n",
    "        plt.plot(barx, bary, c='black', linewidth=5)\n",
    "        kwargs = dict(ha='center', va='bottom', fontsize='13')\n",
    "        plt.text(*mid, formatpv(pv), **kwargs)\n",
    "\n",
    "    plt.tight_layout()\n",
    "    if name == \"Max Area / Total Area\" :\n",
    "        plt.savefig(f'{savedir}/{group}/MaxTotal.tif', dpi=300, format=\"tiff\", pil_kwargs={\"compression\": \"tiff_lzw\"})\n",
    "    elif name == \"Deg 1 / Deg 3\":\n",
    "        plt.savefig(f'{savedir}/{group}/Deg1_to_Deg3.tif', dpi=300, format=\"tiff\", pil_kwargs={\"compression\": \"tiff_lzw\"})\n",
    "    else:\n",
    "        plt.savefig(f'{savedir}/{group}/{name}.tif', dpi=300, format=\"tiff\", pil_kwargs={\"compression\": \"tiff_lzw\"})\n",
    "    plt.gcf()"
   ]
  },
  {
   "cell_type": "markdown",
   "metadata": {},
   "source": [
    "### Data from Analyze Particle Summary"
   ]
  },
  {
   "cell_type": "code",
   "execution_count": 8,
   "metadata": {},
   "outputs": [],
   "source": [
    "# define the directory of the csv\n",
    "# APS = Analyze Particle Summary\n",
    "APS_0X_dir = './data/Analyze_Particle_Summary/Control'\n",
    "APS_05X_dir = './data/Analyze_Particle_Summary/FCCP'\n",
    "APS_1X_dir = './data/Analyze_Particle_Summary/Oligomycin'\n",
    "APS_2X_dir = './data/Analyze_Particle_Summary/Rotenone'"
   ]
  },
  {
   "cell_type": "code",
   "execution_count": 9,
   "metadata": {},
   "outputs": [],
   "source": [
    "# get the filename list\n",
    "file_name_APS_0X = []\n",
    "file_name_APS_05X = []\n",
    "file_name_APS_1X = []\n",
    "file_name_APS_2X = []\n",
    "for filename in os.listdir(APS_0X_dir):\n",
    "    if filename.endswith(\".csv\"):\n",
    "        file_name_APS_0X.append(filename)\n",
    "for filename in os.listdir(APS_05X_dir):\n",
    "    if filename.endswith(\".csv\"):\n",
    "        file_name_APS_05X.append(filename)\n",
    "for filename in os.listdir(APS_1X_dir):\n",
    "    if filename.endswith(\".csv\"):\n",
    "        file_name_APS_1X.append(filename)\n",
    "for filename in os.listdir(APS_2X_dir):\n",
    "    if filename.endswith(\".csv\"):\n",
    "        file_name_APS_2X.append(filename)"
   ]
  },
  {
   "cell_type": "code",
   "execution_count": 11,
   "metadata": {},
   "outputs": [],
   "source": [
    "tox = [\"Control\", \"FCCP\", \"Oligomycin\", \"Rotenone\"]\n",
    "file_name_APS_list = [file_name_APS_0X, file_name_APS_05X, file_name_APS_1X, file_name_APS_2X]\n",
    "Count = [[],[],[],[]]\n",
    "nCount = [[],[],[],[]]\n",
    "TotalArea = [[],[],[],[]]\n",
    "AverageArea = [[],[],[],[]]\n",
    "Perimeter = [[],[],[],[]]\n",
    "FormFactor = [[],[],[],[]]\n",
    "\n",
    "for i in range(len(tox)):\n",
    "    for j in range(len(file_name_APS_list[i])):\n",
    "        df = pd.read_csv(f'./data/Analyze_Particle_Summary/{tox[i]}/{file_name_APS_list[i][j]}', index_col=0)\n",
    "        Count[i].append(float(df['Count'].iloc[0]))\n",
    "        TotalArea[i].append(float(df['Total Area'].iloc[0]))\n",
    "        AverageArea[i].append(float(df['Average Size'].iloc[0]))\n",
    "        Perimeter[i].append(float(df['Perim.'].iloc[0]))\n",
    "        FormFactor[i].append(np.reciprocal(float(df['Circ.'].iloc[0])))\n",
    "        nCount[i].append(float(df['Count'].iloc[0])/float(df['Total Area'].iloc[0]))"
   ]
  },
  {
   "cell_type": "markdown",
   "metadata": {},
   "source": [
    "### Data from Analyze Particle Results"
   ]
  },
  {
   "cell_type": "code",
   "execution_count": 12,
   "metadata": {},
   "outputs": [],
   "source": [
    "# define the directory of the csv\n",
    "# APR = Analyze Particle Results\n",
    "APR_0X_dir = './data/Analyze_Particle_Results/Control'\n",
    "APR_05X_dir = './data/Analyze_Particle_Results/FCCP'\n",
    "APR_1X_dir = './data/Analyze_Particle_Results/Oligomycin'\n",
    "APR_2X_dir = './data/Analyze_Particle_Results/Rotenone'\n",
    "\n",
    "# get the filename list\n",
    "file_name_APR_0X = []\n",
    "file_name_APR_05X = []\n",
    "file_name_APR_1X = []\n",
    "file_name_APR_2X = []\n",
    "\n",
    "for filename in os.listdir(APR_0X_dir):\n",
    "    if filename.endswith(\".csv\"):\n",
    "        file_name_APR_0X.append(filename)\n",
    "for filename in os.listdir(APR_05X_dir):\n",
    "    if filename.endswith(\".csv\"):\n",
    "        file_name_APR_05X.append(filename)\n",
    "for filename in os.listdir(APR_1X_dir):\n",
    "    if filename.endswith(\".csv\"):\n",
    "        file_name_APR_1X.append(filename)\n",
    "for filename in os.listdir(APR_2X_dir):\n",
    "    if filename.endswith(\".csv\"):\n",
    "        file_name_APR_2X.append(filename)"
   ]
  },
  {
   "cell_type": "code",
   "execution_count": 13,
   "metadata": {},
   "outputs": [],
   "source": [
    "tox = [\"Control\", \"FCCP\", \"Oligomycin\", \"Rotenone\"]\n",
    "file_name_APR_list = [file_name_APR_0X, file_name_APR_05X, file_name_APR_1X, file_name_APR_2X]\n",
    "AspectRatio = [[],[],[],[]]\n",
    "MaxArea = [[],[],[],[]]\n",
    "\n",
    "for i in range(len(tox)):\n",
    "    for j in range(len(file_name_APS_list[i])):\n",
    "        df = pd.read_csv(f'./data/Analyze_Particle_Results/{tox[i]}/{file_name_APR_list[i][j]}', index_col=0)\n",
    "        AspectRatio[i].append(df['AR'].mean())\n",
    "        MaxArea[i].append(df.loc[df['Area'].idxmax()]['Area'])"
   ]
  },
  {
   "cell_type": "code",
   "execution_count": 14,
   "metadata": {},
   "outputs": [],
   "source": [
    "total_area_0X_np = np.array(TotalArea[0])\n",
    "total_area_05X_np = np.array(TotalArea[1])\n",
    "total_area_1X_np = np.array(TotalArea[2])\n",
    "total_area_2X_np = np.array(TotalArea[3])\n",
    "\n",
    "max_area_0X_np = np.array(MaxArea[0])\n",
    "max_area_05X_np = np.array(MaxArea[1])\n",
    "max_area_1X_np = np.array(MaxArea[2])\n",
    "max_area_2X_np = np.array(MaxArea[3])\n",
    "\n",
    "temp_data_0X = max_area_0X_np/total_area_0X_np\n",
    "temp_data_05X = max_area_05X_np/total_area_05X_np\n",
    "temp_data_1X = max_area_1X_np/total_area_1X_np\n",
    "temp_data_2X = max_area_2X_np/total_area_2X_np\n",
    "MaxTotal = [temp_data_0X, temp_data_05X, temp_data_1X, temp_data_2X]"
   ]
  },
  {
   "cell_type": "markdown",
   "metadata": {},
   "source": [
    "### Data From Skeleton Results"
   ]
  },
  {
   "cell_type": "code",
   "execution_count": 15,
   "metadata": {},
   "outputs": [],
   "source": [
    "# define the directory of the csv\n",
    "# APR = Analyze Particle Results\n",
    "SR_0X_dir = './data/Skeleton_Results/Control'\n",
    "SR_05X_dir = './data/Skeleton_Results/FCCP'\n",
    "SR_1X_dir = './data/Skeleton_Results/Oligomycin'\n",
    "SR_2X_dir = './data/Skeleton_Results/Rotenone'\n",
    "\n",
    "# get the filename list\n",
    "file_name_SR_0X = []\n",
    "file_name_SR_05X = []\n",
    "file_name_SR_1X = []\n",
    "file_name_SR_2X = []\n",
    "\n",
    "for filename in os.listdir(SR_0X_dir):\n",
    "    if filename.endswith(\".csv\"):\n",
    "        file_name_SR_0X.append(filename)\n",
    "for filename in os.listdir(SR_05X_dir):\n",
    "    if filename.endswith(\".csv\"):\n",
    "        file_name_SR_05X.append(filename)\n",
    "for filename in os.listdir(SR_1X_dir):\n",
    "    if filename.endswith(\".csv\"):\n",
    "        file_name_SR_1X.append(filename)\n",
    "for filename in os.listdir(SR_2X_dir):\n",
    "    if filename.endswith(\".csv\"):\n",
    "        file_name_SR_2X.append(filename)\n",
    "\n",
    "tox = [\"Control\", \"FCCP\", \"Oligomycin\", \"Rotenone\"]\n",
    "file_name_SR_list = [file_name_SR_0X, file_name_SR_05X, file_name_SR_1X, file_name_SR_2X]\n",
    "\n",
    "TotalBranches = [[],[],[],[]]\n",
    "AvgBranches = [[],[],[],[]]\n",
    "ABL = [[],[],[],[]]\n",
    "BLpM = [[],[],[],[]]\n",
    "TotalDeg1 = [[],[],[],[]]\n",
    "TotalDeg2 = [[],[],[],[]]\n",
    "TotalDeg3 = [[],[],[],[]]\n",
    "AvgDeg1 = [[],[],[],[]]\n",
    "AvgDeg2 = [[],[],[],[]]\n",
    "AvgDeg3 = [[],[],[],[]]\n",
    "AvgDeg = [[],[],[],[]]\n",
    "\n",
    "\n",
    "\n",
    "\n",
    "for i in range(len(tox)):\n",
    "    for j in range(len(file_name_SR_list[i])):\n",
    "        df = pd.read_csv(f'./data/Skeleton_Results/{tox[i]}/{file_name_SR_list[i][j]}', index_col=0)\n",
    "        # Calculate deg 2\n",
    "        fake_deg2 = np.zeros(df[df.columns[0]].count())\n",
    "        deg2 = np.zeros(df[df.columns[0]].count())\n",
    "        real_ABL = np.sum(df['# Branches'] * df['Average Branch Length']) / np.sum(df['# Branches'])\n",
    "        for k in range(len(deg2)):\n",
    "            fake_deg2[k] = (df['# Branches'][k+1] * df['Average Branch Length'][k+1]) / real_ABL\n",
    "            dif = round(fake_deg2[k] - (df['# End-point voxels'][k+1] + df['# Junctions'][k+1])) # dif = #2 - (#1 + #3), 0)\n",
    "            if dif <= 0:\n",
    "                deg2[k] = 0\n",
    "            elif dif > 0 :\n",
    "                deg2[k] = dif\n",
    "        df['fake_Deg2'] = fake_deg2\n",
    "        df['Deg2'] = deg2\n",
    "\n",
    "        TotalBranches[i].append(df['# Branches'].sum())\n",
    "        AvgBranches[i].append(df['# Branches'].mean())\n",
    "        ABL[i].append(df['Average Branch Length'].mean())\n",
    "        BLpM[i].append((df['# Branches'] * df['Average Branch Length']).mean())\n",
    "        TotalDeg1[i].append(df['# End-point voxels'].sum())\n",
    "        TotalDeg2[i].append(df['Deg2'].sum())\n",
    "        TotalDeg3[i].append(df['# Junctions'].sum())\n",
    "        AvgDeg1[i].append(df['# End-point voxels'].mean())\n",
    "        AvgDeg2[i].append(df['Deg2'].mean())\n",
    "        AvgDeg3[i].append(df['# Junctions'].mean())\n",
    "        avgdeg = (df['# End-point voxels'].sum() + 2*df['Deg2'].sum() + 3*df['# Junctions'].sum()) / (df['# End-point voxels'].sum() + df['Deg2'].sum() + df['# Junctions'].sum())\n",
    "        AvgDeg[i].append(avgdeg)\n",
    "\n",
    "TotalDeg1_0X_np = np.array(TotalDeg1[0])\n",
    "TotalDeg1_05X_np = np.array(TotalDeg1[1])\n",
    "TotalDeg1_1X_np = np.array(TotalDeg1[2])\n",
    "TotalDeg1_2X_np = np.array(TotalDeg1[3])\n",
    "\n",
    "TotalDeg2_0X_np = np.array(TotalDeg2[0])\n",
    "TotalDeg2_05X_np = np.array(TotalDeg2[1])\n",
    "TotalDeg2_1X_np = np.array(TotalDeg2[2])\n",
    "TotalDeg2_2X_np = np.array(TotalDeg2[3])\n",
    "\n",
    "TotalDeg3_0X_np = np.array(TotalDeg3[0])\n",
    "TotalDeg3_05X_np = np.array(TotalDeg3[1])\n",
    "TotalDeg3_1X_np = np.array(TotalDeg3[2])\n",
    "TotalDeg3_2X_np = np.array(TotalDeg3[3])\n",
    "\n",
    "# Deg1_to_Deg3\n",
    "temp_data_0X = TotalDeg1_0X_np/TotalDeg3_0X_np\n",
    "temp_data_05X = TotalDeg1_05X_np/TotalDeg3_05X_np\n",
    "temp_data_1X = TotalDeg1_1X_np/TotalDeg3_1X_np\n",
    "temp_data_2X = TotalDeg1_2X_np/TotalDeg3_2X_np\n",
    "Deg1_to_Deg3 = [temp_data_0X, temp_data_05X, temp_data_1X, temp_data_2X]\n",
    "\n",
    "# nDeg1\n",
    "temp_data_0X = TotalDeg1_0X_np/total_area_0X_np\n",
    "temp_data_05X = TotalDeg1_05X_np/total_area_05X_np\n",
    "temp_data_1X = TotalDeg1_1X_np/total_area_1X_np\n",
    "temp_data_2X = TotalDeg1_2X_np/total_area_2X_np\n",
    "nDeg1 = [temp_data_0X, temp_data_05X, temp_data_1X, temp_data_2X]\n",
    "\n",
    "#nDeg2\n",
    "temp_data_0X = TotalDeg2_0X_np/total_area_0X_np\n",
    "temp_data_05X = TotalDeg2_05X_np/total_area_05X_np\n",
    "temp_data_1X = TotalDeg2_1X_np/total_area_1X_np\n",
    "temp_data_2X = TotalDeg2_2X_np/total_area_2X_np\n",
    "nDeg2 = [temp_data_0X, temp_data_05X, temp_data_1X, temp_data_2X]\n",
    "\n",
    "#nDeg3\n",
    "temp_data_0X = TotalDeg3_0X_np/total_area_0X_np\n",
    "temp_data_05X = TotalDeg3_05X_np/total_area_05X_np\n",
    "temp_data_1X = TotalDeg3_1X_np/total_area_1X_np\n",
    "temp_data_2X = TotalDeg3_2X_np/total_area_2X_np\n",
    "nDeg3 = [temp_data_0X, temp_data_05X, temp_data_1X, temp_data_2X]"
   ]
  },
  {
   "cell_type": "code",
   "execution_count": 18,
   "metadata": {},
   "outputs": [
    {
     "name": "stdout",
     "output_type": "stream",
     "text": [
      "Levena for Count = LeveneResult(statistic=np.float64(2.401756741355261), pvalue=np.float64(0.07565686137936803))\n",
      "ANOVA for Count = F_onewayResult(statistic=np.float64(9.893762399788413), pvalue=np.float64(1.8455778287326068e-05))\n",
      "P-value between group 0 and 1: 0.00346841028180536\n",
      "P-value between group 1 and 2: 4.6447578271244865e-05\n",
      "P-value between group 2 and 3: 0.0041001617868454835\n",
      "P-value between group 0 and 2: 0.02561208986447697\n",
      "P-value between group 1 and 3: 0.10578636777553477\n",
      "P-value between group 0 and 3: 0.29954277814277885\n"
     ]
    }
   ],
   "source": [
    "Plot4_seaborn(Count, \"Count\", unit = \"count\", group = \"particle\")"
   ]
  },
  {
   "cell_type": "code",
   "execution_count": 19,
   "metadata": {},
   "outputs": [
    {
     "name": "stdout",
     "output_type": "stream",
     "text": [
      "Levena for Normalized Count = LeveneResult(statistic=np.float64(10.446539616815631), pvalue=np.float64(1.0675880979446341e-05))\n",
      "ANOVA for Normalized Count = F_onewayResult(statistic=np.float64(26.314192437038635), pvalue=np.float64(2.928832297616059e-11))\n",
      "P-value between group 0 and 1: 5.152946777481957e-05\n",
      "P-value between group 1 and 2: 0.07350876381351618\n",
      "P-value between group 2 and 3: 3.4801341754996943e-12\n",
      "P-value between group 0 and 2: 4.040925060739468e-06\n",
      "P-value between group 1 and 3: 2.4738372654622534e-07\n",
      "P-value between group 0 and 3: 0.0011298854379027706\n"
     ]
    }
   ],
   "source": [
    "Plot4_seaborn(nCount, \"Normalized Count\", unit = \"count\", group = \"particle\")"
   ]
  },
  {
   "cell_type": "code",
   "execution_count": 20,
   "metadata": {},
   "outputs": [
    {
     "name": "stdout",
     "output_type": "stream",
     "text": [
      "Levena for Total Area = LeveneResult(statistic=np.float64(2.5381231728896414), pvalue=np.float64(0.06420108164422307))\n",
      "ANOVA for Total Area = F_onewayResult(statistic=np.float64(9.864126078234692), pvalue=np.float64(1.9010093060988534e-05))\n",
      "P-value between group 0 and 1: 5.1935943245557734e-05\n",
      "P-value between group 1 and 2: 2.1219760041174346e-05\n",
      "P-value between group 2 and 3: 0.28827082693142897\n",
      "P-value between group 0 and 2: 0.5997130085097484\n",
      "P-value between group 1 and 3: 0.0005078388273830519\n",
      "P-value between group 0 and 3: 0.5339820634852854\n"
     ]
    }
   ],
   "source": [
    "Plot4_seaborn(TotalArea, \"Total Area\", unit = \"area\", group = \"particle\")"
   ]
  },
  {
   "cell_type": "code",
   "execution_count": 21,
   "metadata": {},
   "outputs": [
    {
     "name": "stdout",
     "output_type": "stream",
     "text": [
      "Levena for Average Area = LeveneResult(statistic=np.float64(3.6695407322164257), pvalue=np.float64(0.016582307689687))\n",
      "ANOVA for Average Area = F_onewayResult(statistic=np.float64(32.93957718544294), pvalue=np.float64(4.577907389943614e-13))\n",
      "P-value between group 0 and 1: 3.572500901140919e-05\n",
      "P-value between group 1 and 2: 0.3810855597828968\n",
      "P-value between group 2 and 3: 6.622975027292084e-07\n",
      "P-value between group 0 and 2: 4.417659337091364e-05\n",
      "P-value between group 1 and 3: 8.024869023579523e-08\n",
      "P-value between group 0 and 3: 0.0024029549916900414\n"
     ]
    }
   ],
   "source": [
    "Plot4_seaborn(AverageArea, \"Average Area\", unit = \"area\", group = \"particle\")"
   ]
  },
  {
   "cell_type": "code",
   "execution_count": 22,
   "metadata": {},
   "outputs": [
    {
     "name": "stdout",
     "output_type": "stream",
     "text": [
      "Levena for Perimeter = LeveneResult(statistic=np.float64(5.050943474311408), pvalue=np.float64(0.003307666357441376))\n",
      "ANOVA for Perimeter = F_onewayResult(statistic=np.float64(29.15163964894621), pvalue=np.float64(4.623885120876661e-12))\n",
      "P-value between group 0 and 1: 0.00015638894844651217\n",
      "P-value between group 1 and 2: 0.4980354923567748\n",
      "P-value between group 2 and 3: 1.2158388700538019e-06\n",
      "P-value between group 0 and 2: 3.0131451454339983e-05\n",
      "P-value between group 1 and 3: 1.2374216624869324e-06\n",
      "P-value between group 0 and 3: 0.010318151401806037\n"
     ]
    }
   ],
   "source": [
    "Plot4_seaborn(Perimeter, \"Perimeter\", unit = \"length\", group = \"particle\")"
   ]
  },
  {
   "cell_type": "code",
   "execution_count": 23,
   "metadata": {},
   "outputs": [
    {
     "name": "stdout",
     "output_type": "stream",
     "text": [
      "Levena for Form Factor = LeveneResult(statistic=np.float64(7.147434908216651), pvalue=np.float64(0.00032002771927655766))\n",
      "ANOVA for Form Factor = F_onewayResult(statistic=np.float64(21.53238768138094), pvalue=np.float64(8.489467692671564e-10))\n",
      "P-value between group 0 and 1: 0.4058013527128045\n",
      "P-value between group 1 and 2: 2.0846726419259427e-10\n",
      "P-value between group 2 and 3: 1.7330754097237464e-07\n",
      "P-value between group 0 and 2: 3.8732169331789836e-05\n",
      "P-value between group 1 and 3: 0.0637269977434842\n",
      "P-value between group 0 and 3: 0.030024427196823293\n"
     ]
    }
   ],
   "source": [
    "Plot4_seaborn(FormFactor, \"Form Factor\", unit = \"a.u.\", group = \"particle\")"
   ]
  },
  {
   "cell_type": "code",
   "execution_count": 24,
   "metadata": {},
   "outputs": [
    {
     "name": "stdout",
     "output_type": "stream",
     "text": [
      "Levena for Aspect Ratio = LeveneResult(statistic=np.float64(8.833660427295989), pvalue=np.float64(5.404308142593828e-05))\n",
      "ANOVA for Aspect Ratio = F_onewayResult(statistic=np.float64(27.95983317256117), pvalue=np.float64(9.914196094708825e-12))\n",
      "P-value between group 0 and 1: 3.3715271517573377e-05\n",
      "P-value between group 1 and 2: 0.38047135464276205\n",
      "P-value between group 2 and 3: 8.655449548581027e-09\n",
      "P-value between group 0 and 2: 7.945477999672803e-06\n",
      "P-value between group 1 and 3: 2.2058128173296627e-08\n",
      "P-value between group 0 and 3: 0.3284062384721933\n"
     ]
    }
   ],
   "source": [
    "Plot4_seaborn(AspectRatio, \"Aspect Ratio\", unit = \"a.u.\", group = \"particle\")"
   ]
  },
  {
   "cell_type": "code",
   "execution_count": 25,
   "metadata": {},
   "outputs": [
    {
     "name": "stdout",
     "output_type": "stream",
     "text": [
      "Levena for Max Area / Total Area = LeveneResult(statistic=np.float64(3.3800235629551265), pvalue=np.float64(0.023395455055828605))\n",
      "ANOVA for Max Area / Total Area = F_onewayResult(statistic=np.float64(3.0519795876471667), pvalue=np.float64(0.03462706046499522))\n",
      "P-value between group 0 and 1: 0.15121554330829315\n",
      "P-value between group 1 and 2: 0.023022123479329765\n",
      "P-value between group 2 and 3: 0.013248863708499307\n",
      "P-value between group 0 and 2: 0.02759646009562378\n",
      "P-value between group 1 and 3: 0.7056397218937807\n",
      "P-value between group 0 and 3: 0.16909980409698958\n"
     ]
    }
   ],
   "source": [
    "Plot4_seaborn(MaxTotal, \"Max Area / Total Area\", unit = \"ratio\", group = \"particle\")"
   ]
  },
  {
   "cell_type": "code",
   "execution_count": 26,
   "metadata": {},
   "outputs": [
    {
     "name": "stdout",
     "output_type": "stream",
     "text": [
      "Levena for Total Branches = LeveneResult(statistic=np.float64(0.4568373899406688), pvalue=np.float64(0.713379403121075))\n",
      "ANOVA for Total Branches = F_onewayResult(statistic=np.float64(1.8985929934125672), pvalue=np.float64(0.1385580691157818))\n",
      "P-value between group 0 and 1: 0.032883453638763716\n",
      "P-value between group 1 and 2: 0.04801173513712264\n",
      "P-value between group 2 and 3: 0.8759683059559381\n",
      "P-value between group 0 and 2: 0.78261149470658\n",
      "P-value between group 1 and 3: 0.15603818165176814\n",
      "P-value between group 0 and 3: 0.7089130613606427\n"
     ]
    }
   ],
   "source": [
    "Plot4_seaborn(TotalBranches, 'Total Branches', unit = 'count', group = \"skeleton\")"
   ]
  },
  {
   "cell_type": "code",
   "execution_count": 27,
   "metadata": {},
   "outputs": [
    {
     "name": "stdout",
     "output_type": "stream",
     "text": [
      "Levena for Average Branches = LeveneResult(statistic=np.float64(3.5377588473843646), pvalue=np.float64(0.019390389088073792))\n",
      "ANOVA for Average Branches = F_onewayResult(statistic=np.float64(10.335926149860308), pvalue=np.float64(1.190350763204157e-05))\n",
      "P-value between group 0 and 1: 0.37284960141184575\n",
      "P-value between group 1 and 2: 7.904991144567854e-07\n",
      "P-value between group 2 and 3: 1.4828527781246469e-05\n",
      "P-value between group 0 and 2: 0.0005886197431700385\n",
      "P-value between group 1 and 3: 0.9111061310745234\n",
      "P-value between group 0 and 3: 0.34930488305390905\n"
     ]
    }
   ],
   "source": [
    "Plot4_seaborn(AvgBranches, 'Average Branches', unit = 'count', group = \"skeleton\")"
   ]
  },
  {
   "cell_type": "code",
   "execution_count": 28,
   "metadata": {},
   "outputs": [
    {
     "name": "stdout",
     "output_type": "stream",
     "text": [
      "Levena for Average Branch Length = LeveneResult(statistic=np.float64(3.804057299925102), pvalue=np.float64(0.01414096400103188))\n",
      "ANOVA for Average Branch Length = F_onewayResult(statistic=np.float64(50.201648003498796), pvalue=np.float64(6.51620374326256e-17))\n",
      "P-value between group 0 and 1: 4.86942845524894e-06\n",
      "P-value between group 1 and 2: 0.983814654245488\n",
      "P-value between group 2 and 3: 5.271853121954893e-11\n",
      "P-value between group 0 and 2: 4.392661123686197e-06\n",
      "P-value between group 1 and 3: 3.8185997761484683e-11\n",
      "P-value between group 0 and 3: 0.0002485579853257326\n"
     ]
    }
   ],
   "source": [
    "Plot4_seaborn(ABL, 'Average Branch Length', unit = 'length', group = \"skeleton\")"
   ]
  },
  {
   "cell_type": "code",
   "execution_count": 29,
   "metadata": {},
   "outputs": [
    {
     "name": "stdout",
     "output_type": "stream",
     "text": [
      "Levena for Branch Length Per Mito = LeveneResult(statistic=np.float64(6.18598712881479), pvalue=np.float64(0.0009180655891553269))\n",
      "ANOVA for Branch Length Per Mito = F_onewayResult(statistic=np.float64(24.601878881649593), pvalue=np.float64(9.402721167803396e-11))\n",
      "P-value between group 0 and 1: 0.0019566364482916684\n",
      "P-value between group 1 and 2: 0.0208441360934158\n",
      "P-value between group 2 and 3: 1.0227009351579099e-06\n",
      "P-value between group 0 and 2: 4.910478186214935e-05\n",
      "P-value between group 1 and 3: 6.108190761709371e-06\n",
      "P-value between group 0 and 3: 0.019812108356078828\n"
     ]
    }
   ],
   "source": [
    "Plot4_seaborn(BLpM, 'Branch Length Per Mito', unit = 'length', group = \"skeleton\")"
   ]
  },
  {
   "cell_type": "code",
   "execution_count": 30,
   "metadata": {},
   "outputs": [
    {
     "name": "stdout",
     "output_type": "stream",
     "text": [
      "Levena for Total Deg 1 = LeveneResult(statistic=np.float64(1.0957221295746675), pvalue=np.float64(0.35733987143231327))\n",
      "ANOVA for Total Deg 1 = F_onewayResult(statistic=np.float64(5.564822031184559), pvalue=np.float64(0.0018421791474564513))\n",
      "P-value between group 0 and 1: 0.01262567064434905\n",
      "P-value between group 1 and 2: 0.0005291716506665745\n",
      "P-value between group 2 and 3: 0.03669124748381144\n",
      "P-value between group 0 and 2: 0.12655301625344462\n",
      "P-value between group 1 and 3: 0.17785935201050534\n",
      "P-value between group 0 and 3: 0.40515422443507765\n"
     ]
    }
   ],
   "source": [
    "Plot4_seaborn(TotalDeg1, 'Total Deg 1', unit = 'count', group = \"skeleton\")"
   ]
  },
  {
   "cell_type": "code",
   "execution_count": 31,
   "metadata": {},
   "outputs": [
    {
     "name": "stdout",
     "output_type": "stream",
     "text": [
      "Levena for Total Deg 2 = LeveneResult(statistic=np.float64(1.679027115235726), pvalue=np.float64(0.1801621702644636))\n",
      "ANOVA for Total Deg 2 = F_onewayResult(statistic=np.float64(5.362394412192066), pvalue=np.float64(0.002317593983659467))\n",
      "P-value between group 0 and 1: 0.0005376455318667336\n",
      "P-value between group 1 and 2: 0.0015502750665346864\n",
      "P-value between group 2 and 3: 0.6436515825140094\n",
      "P-value between group 0 and 2: 0.7534259734624877\n",
      "P-value between group 1 and 3: 0.023342783343081236\n",
      "P-value between group 0 and 3: 0.4642757553516843\n"
     ]
    }
   ],
   "source": [
    "Plot4_seaborn(TotalDeg2, 'Total Deg 2', unit = 'count', group = \"skeleton\")"
   ]
  },
  {
   "cell_type": "code",
   "execution_count": 32,
   "metadata": {},
   "outputs": [
    {
     "name": "stdout",
     "output_type": "stream",
     "text": [
      "Levena for Total Deg 3 = LeveneResult(statistic=np.float64(1.7120755730316104), pvalue=np.float64(0.173198530224424))\n",
      "ANOVA for Total Deg 3 = F_onewayResult(statistic=np.float64(2.6166689390833175), pvalue=np.float64(0.058409801766667366))\n",
      "P-value between group 0 and 1: 0.11388097619752975\n",
      "P-value between group 1 and 2: 0.48595310972732375\n",
      "P-value between group 2 and 3: 0.042224230509082326\n",
      "P-value between group 0 and 2: 0.018475360218474454\n",
      "P-value between group 1 and 3: 0.14362381030620447\n",
      "P-value between group 0 and 3: 0.9082057499992617\n"
     ]
    }
   ],
   "source": [
    "Plot4_seaborn(TotalDeg3, 'Total Deg 3', unit = 'count', group = \"skeleton\")"
   ]
  },
  {
   "cell_type": "code",
   "execution_count": 33,
   "metadata": {},
   "outputs": [
    {
     "name": "stdout",
     "output_type": "stream",
     "text": [
      "Levena for Average Deg 1 = LeveneResult(statistic=np.float64(2.6282903824796207), pvalue=np.float64(0.057598678565400636))\n",
      "ANOVA for Average Deg 1 = F_onewayResult(statistic=np.float64(12.527626403105483), pvalue=np.float64(1.465134067671843e-06))\n",
      "P-value between group 0 and 1: 0.04219200676972627\n",
      "P-value between group 1 and 2: 8.502420610300866e-08\n",
      "P-value between group 2 and 3: 8.831759969785956e-05\n",
      "P-value between group 0 and 2: 0.0005678539753960726\n",
      "P-value between group 1 and 3: 0.2168804254198499\n",
      "P-value between group 0 and 3: 0.43249455541976034\n"
     ]
    }
   ],
   "source": [
    "Plot4_seaborn(AvgDeg1, 'Average Deg 1', unit = 'count', group = \"skeleton\")"
   ]
  },
  {
   "cell_type": "code",
   "execution_count": 34,
   "metadata": {},
   "outputs": [
    {
     "name": "stdout",
     "output_type": "stream",
     "text": [
      "Levena for Average Deg 2 = LeveneResult(statistic=np.float64(3.318460438069838), pvalue=np.float64(0.025177936659869206))\n",
      "ANOVA for Average Deg 2 = F_onewayResult(statistic=np.float64(5.172703999790071), pvalue=np.float64(0.002877212101556875))\n",
      "P-value between group 0 and 1: 0.09246279496775267\n",
      "P-value between group 1 and 2: 0.1705095539595084\n",
      "P-value between group 2 and 3: 0.00018973758392295216\n",
      "P-value between group 0 and 2: 0.00038967287101180937\n",
      "P-value between group 1 and 3: 0.08299638923350733\n",
      "P-value between group 0 and 3: 0.9608398589659375\n"
     ]
    }
   ],
   "source": [
    "Plot4_seaborn(AvgDeg2, 'Average Deg 2', unit = 'count', group = \"skeleton\")"
   ]
  },
  {
   "cell_type": "code",
   "execution_count": 35,
   "metadata": {},
   "outputs": [
    {
     "name": "stdout",
     "output_type": "stream",
     "text": [
      "Levena for Average Deg 3 = LeveneResult(statistic=np.float64(3.9358684044806957), pvalue=np.float64(0.012103041235852442))\n",
      "ANOVA for Average Deg 3 = F_onewayResult(statistic=np.float64(9.491760594813847), pvalue=np.float64(2.7631045319463646e-05))\n",
      "P-value between group 0 and 1: 0.5937739845306971\n",
      "P-value between group 1 and 2: 2.3922719924353842e-06\n",
      "P-value between group 2 and 3: 1.1847417127894812e-05\n",
      "P-value between group 0 and 2: 0.0008568841016767979\n",
      "P-value between group 1 and 3: 0.5440710919955039\n",
      "P-value between group 0 and 3: 0.31548234065148606\n"
     ]
    }
   ],
   "source": [
    "Plot4_seaborn(AvgDeg3, 'Average Deg 3', unit = 'count', group = \"skeleton\")"
   ]
  },
  {
   "cell_type": "code",
   "execution_count": 36,
   "metadata": {},
   "outputs": [
    {
     "name": "stdout",
     "output_type": "stream",
     "text": [
      "Levena for Normalized Deg 1 = LeveneResult(statistic=np.float64(16.236184107006864), pvalue=np.float64(5.547277312720028e-08))\n",
      "ANOVA for Normalized Deg 1 = F_onewayResult(statistic=np.float64(40.15581793067866), pvalue=np.float64(8.396503554200434e-15))\n",
      "P-value between group 0 and 1: 1.3919865491119005e-06\n",
      "P-value between group 1 and 2: 0.0003480580750777661\n",
      "P-value between group 2 and 3: 3.781610252489695e-13\n",
      "P-value between group 0 and 2: 6.7822733219065035e-06\n",
      "P-value between group 1 and 3: 2.114721135756083e-08\n",
      "P-value between group 0 and 3: 5.0404010711065865e-05\n"
     ]
    }
   ],
   "source": [
    "Plot4_seaborn(nDeg1, 'Normalized Deg 1', unit = 'count', group = \"skeleton\")"
   ]
  },
  {
   "cell_type": "code",
   "execution_count": 37,
   "metadata": {},
   "outputs": [
    {
     "name": "stderr",
     "output_type": "stream",
     "text": [
      "C:\\Users\\sosiristseng\\AppData\\Local\\Temp\\ipykernel_20924\\3999241140.py:8: RuntimeWarning: More than 20 figures have been opened. Figures created through the pyplot interface (`matplotlib.pyplot.figure`) are retained until explicitly closed and may consume too much memory. (To control this warning, see the rcParam `figure.max_open_warning`). Consider using `matplotlib.pyplot.close()`.\n",
      "  fig1, ax1 = plt.subplots(figsize=(6, 9), dpi=300)\n"
     ]
    },
    {
     "name": "stdout",
     "output_type": "stream",
     "text": [
      "Levena for Normalized Deg 2 = LeveneResult(statistic=np.float64(7.033383590537953), pvalue=np.float64(0.0003620904338747146))\n",
      "ANOVA for Normalized Deg 2 = F_onewayResult(statistic=np.float64(8.251806901779323), pvalue=np.float64(9.88561646765326e-05))\n",
      "P-value between group 0 and 1: 0.023907099565403128\n",
      "P-value between group 1 and 2: 0.02897750147813634\n",
      "P-value between group 2 and 3: 0.0011103926997533783\n",
      "P-value between group 0 and 2: 0.8666685702126112\n",
      "P-value between group 1 and 3: 0.00022523790090678178\n",
      "P-value between group 0 and 3: 0.0017763895044667758\n"
     ]
    }
   ],
   "source": [
    "Plot4_seaborn(nDeg2, 'Normalized Deg 2', unit = 'count', group = \"skeleton\")"
   ]
  },
  {
   "cell_type": "code",
   "execution_count": 38,
   "metadata": {},
   "outputs": [
    {
     "name": "stdout",
     "output_type": "stream",
     "text": [
      "Levena for Normalized Deg 3 = LeveneResult(statistic=np.float64(5.425990029271337), pvalue=np.float64(0.002156023607686799))\n",
      "ANOVA for Normalized Deg 3 = F_onewayResult(statistic=np.float64(29.94947584285445), pvalue=np.float64(2.80213435298105e-12))\n",
      "P-value between group 0 and 1: 4.8700548813948e-06\n",
      "P-value between group 1 and 2: 2.2167934132941423e-08\n",
      "P-value between group 2 and 3: 0.025535878016185544\n",
      "P-value between group 0 and 2: 0.030220119500437397\n",
      "P-value between group 1 and 3: 4.671031468962532e-07\n",
      "P-value between group 0 and 3: 0.41048298697044694\n"
     ]
    }
   ],
   "source": [
    "Plot4_seaborn(nDeg3, 'Normalized Deg 3',  unit = 'count', group = \"skeleton\")"
   ]
  },
  {
   "cell_type": "code",
   "execution_count": 39,
   "metadata": {},
   "outputs": [
    {
     "name": "stdout",
     "output_type": "stream",
     "text": [
      "Levena for Average Degree = LeveneResult(statistic=np.float64(3.647138847800297), pvalue=np.float64(0.017028722313235514))\n",
      "ANOVA for Average Degree = F_onewayResult(statistic=np.float64(11.185019487846269), pvalue=np.float64(5.206863688616042e-06))\n",
      "P-value between group 0 and 1: 0.8642355843606242\n",
      "P-value between group 1 and 2: 1.7239821550307552e-06\n",
      "P-value between group 2 and 3: 2.084706023030623e-07\n",
      "P-value between group 0 and 2: 0.0006914998538903521\n",
      "P-value between group 1 and 3: 0.13158006021439597\n",
      "P-value between group 0 and 3: 0.19171601056985202\n"
     ]
    }
   ],
   "source": [
    "Plot4_seaborn(AvgDeg, 'Average Degree', unit = 'count', group = \"skeleton\")"
   ]
  },
  {
   "cell_type": "code",
   "execution_count": 40,
   "metadata": {},
   "outputs": [
    {
     "name": "stdout",
     "output_type": "stream",
     "text": [
      "Levena for Deg 1 / Deg 3 = LeveneResult(statistic=np.float64(1.575002463032881), pvalue=np.float64(0.20390073378332904))\n",
      "ANOVA for Deg 1 / Deg 3 = F_onewayResult(statistic=np.float64(3.183669408171367), pvalue=np.float64(0.029576923229950428))\n",
      "P-value between group 0 and 1: 0.25976774097154226\n",
      "P-value between group 1 and 2: 3.812473926845105e-06\n",
      "P-value between group 2 and 3: 5.081935670088848e-07\n",
      "P-value between group 0 and 2: 0.43948690662930723\n",
      "P-value between group 1 and 3: 0.19998109712869996\n",
      "P-value between group 0 and 3: 0.1642318495299295\n"
     ]
    }
   ],
   "source": [
    "Plot4_seaborn(Deg1_to_Deg3, \"Deg 1 / Deg 3\", unit = 'ratio', group = \"skeleton\")"
   ]
  }
 ],
 "metadata": {
  "kernelspec": {
   "display_name": "Python 3",
   "language": "python",
   "name": "python3"
  },
  "language_info": {
   "codemirror_mode": {
    "name": "ipython",
    "version": 3
   },
   "file_extension": ".py",
   "mimetype": "text/x-python",
   "name": "python",
   "nbconvert_exporter": "python",
   "pygments_lexer": "ipython3",
   "version": "3.12.4"
  }
 },
 "nbformat": 4,
 "nbformat_minor": 4
}
