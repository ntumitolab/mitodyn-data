{
 "cells": [
  {
   "cell_type": "code",
   "execution_count": null,
   "metadata": {},
   "outputs": [],
   "source": [
    "from platform import python_version\n",
    "print(python_version())"
   ]
  },
  {
   "cell_type": "code",
   "execution_count": null,
   "metadata": {},
   "outputs": [],
   "source": [
    "import xlwings as xw\n",
    "import numpy as np\n",
    "import os, os.path\n",
    "import matplotlib.pyplot as plt\n",
    "import pandas as pd\n",
    "from scipy import stats\n",
    "from outliers import smirnov_grubbs as grubbs\n",
    "import seaborn as sns"
   ]
  },
  {
   "cell_type": "code",
   "execution_count": null,
   "metadata": {},
   "outputs": [],
   "source": [
    "def formatpv(pv, threshold=1E-4):\n",
    "    if pv > threshold:\n",
    "        return str(f'P={pv:.4f}')\n",
    "    else:\n",
    "        return str(f'P={pv:.2E}')"
   ]
  },
  {
   "cell_type": "code",
   "execution_count": null,
   "metadata": {},
   "outputs": [],
   "source": [
    "def get_mean_intensity(his_dir, th):\n",
    "    file_name = []\n",
    "    for filename in os.listdir(his_dir):\n",
    "        if filename.endswith('.csv'):\n",
    "            file_name.append(filename)\n",
    "    excel_app = xw.App(visible=False)\n",
    "    all_mean = []\n",
    "    for j in range(len(file_name)):\n",
    "        temp_bk = excel_app.books.open(f'{his_dir}/{file_name[j]}')\n",
    "        print(temp_bk.sheets)\n",
    "        temp_sht = temp_bk.sheets[0]\n",
    "        temp_data = temp_sht.range(f'C{th+2}').options(np.array, expand=\"down\").value\n",
    "        temp_bk.close()\n",
    "\n",
    "        pixel_value = np.array(range(th,256))\n",
    "        if temp_data.sum() == 0:\n",
    "            all_mean.append(0)\n",
    "            print(\"no pixel over threshold happened!\")\n",
    "        else:\n",
    "            all_mean.append((temp_data * pixel_value).sum() / temp_data.sum())\n",
    "    excel_app.quit()\n",
    "    return all_mean"
   ]
  },
  {
   "cell_type": "code",
   "execution_count": null,
   "metadata": {},
   "outputs": [],
   "source": [
    "root_dir = 'histogram_list'\n",
    "file_num = []\n",
    "for filenum in os.listdir(root_dir):\n",
    "    file_num.append(filenum)\n",
    "file_num"
   ]
  },
  {
   "cell_type": "markdown",
   "metadata": {},
   "source": [
    "## Collect the distribution"
   ]
  },
  {
   "cell_type": "code",
   "execution_count": null,
   "metadata": {},
   "outputs": [],
   "source": [
    "root_dir = 'histogram_list'\n",
    "file_num = []\n",
    "for filenum in os.listdir(root_dir):\n",
    "    file_num.append(filenum)\n",
    "\n",
    "for i in file_num:\n",
    "    print(f'{root_dir}/{i}')\n",
    "    if i == 'Control':\n",
    "        _0X_intensity = get_mean_intensity(f'{root_dir}/{i}', 0)\n",
    "    elif i == 'FCCP':\n",
    "        _025X_intensity = get_mean_intensity(f'{root_dir}/{i}', 0)\n",
    "    elif i == 'Oligomycin':\n",
    "        _05X_intensity = get_mean_intensity(f'{root_dir}/{i}', 0)\n",
    "    elif i == 'Rotenone':\n",
    "        _1X_intensity = get_mean_intensity(f'{root_dir}/{i}', 0)"
   ]
  },
  {
   "cell_type": "code",
   "execution_count": null,
   "metadata": {},
   "outputs": [],
   "source": [
    "autoThresholdValue = pd.read_csv(\"autoThresholdValue.csv\")"
   ]
  },
  {
   "cell_type": "code",
   "execution_count": null,
   "metadata": {},
   "outputs": [],
   "source": [
    "print(len(autoThresholdValue))\n",
    "print(len(_0X_intensity))\n",
    "print(len(_025X_intensity))\n",
    "print(len(_05X_intensity))\n",
    "print(len(_1X_intensity))"
   ]
  },
  {
   "cell_type": "code",
   "execution_count": null,
   "metadata": {},
   "outputs": [],
   "source": [
    "print(len(autoThresholdValue['Value'].tolist()))\n",
    "print('===')\n",
    "control_th_value = autoThresholdValue['Value'].tolist()[0:41]\n",
    "fccp_th_value = autoThresholdValue['Value'].tolist()[41:84]\n",
    "oligomycin_th_value =autoThresholdValue['Value'].tolist()[84:124]\n",
    "rotenone_th_value = autoThresholdValue['Value'].tolist()[124:177]\n",
    "print(len(control_th_value))\n",
    "print(len(fccp_th_value))\n",
    "print(len(oligomycin_th_value))\n",
    "print(len(rotenone_th_value))"
   ]
  },
  {
   "cell_type": "code",
   "execution_count": null,
   "metadata": {},
   "outputs": [],
   "source": [
    "# use 1X as control\n",
    "control_th = np.array(control_th_value)\n",
    "fccp_th = np.array(fccp_th_value)\n",
    "oligomycin_th = np.array(oligomycin_th_value)\n",
    "rotenone_th = np.array(rotenone_th_value)\n",
    "print(np.mean(control_th))\n",
    "print(np.mean(fccp_th))\n",
    "print(np.mean(oligomycin_th))\n",
    "print(np.mean(rotenone_th))"
   ]
  },
  {
   "cell_type": "markdown",
   "metadata": {},
   "source": [
    "## Calculate calibrated intensity values"
   ]
  },
  {
   "cell_type": "code",
   "execution_count": null,
   "metadata": {
    "collapsed": true,
    "jupyter": {
     "outputs_hidden": true
    }
   },
   "outputs": [],
   "source": [
    "root_dir = 'histogram_list'\n",
    "file_num = []\n",
    "for filenum in os.listdir(root_dir):\n",
    "    file_num.append(filenum)\n",
    "\n",
    "for i in file_num:\n",
    "    print(f'{root_dir}/{i}')\n",
    "    if i == 'Control':\n",
    "        _0X_intensity = get_mean_intensity(f'{root_dir}/{i}', 42)\n",
    "    elif i == 'FCCP':\n",
    "        _025X_intensity = get_mean_intensity(f'{root_dir}/{i}', 21)\n",
    "    elif i == 'Oligomycin':\n",
    "        _05X_intensity = get_mean_intensity(f'{root_dir}/{i}', 40)\n",
    "    elif i == 'Rotenone':\n",
    "        _1X_intensity = get_mean_intensity(f'{root_dir}/{i}', 35)"
   ]
  },
  {
   "cell_type": "markdown",
   "metadata": {},
   "source": [
    "## Box plot"
   ]
  },
  {
   "cell_type": "code",
   "execution_count": null,
   "metadata": {},
   "outputs": [],
   "source": [
    "name = \"Intensity\"\n",
    "in_data = [_0X_intensity, _025X_intensity, _05X_intensity, _1X_intensity]\n",
    "mydata = [grubbs.test(in_data[0], alpha=0.05), grubbs.test(in_data[1], alpha=0.05),\n",
    "         grubbs.test(in_data[2], alpha=0.05), grubbs.test(in_data[3], alpha=0.05)]\n",
    "max_value = np.amax([np.amax(mydata[0]), np.amax(mydata[1]), np.amax(mydata[2]), np.amax(mydata[3])])\n",
    "numBoxes = 4\n",
    "fig1, ax1 = plt.subplots(figsize=(6, 9),dpi=300)\n",
    "sns.boxplot(data = mydata, linewidth=3, showfliers=False)\n",
    "sns.swarmplot(data = mydata, color=\".25\", size=6)\n",
    "ax1.set_title(name, size = 34, fontweight='bold')\n",
    "# ax1.set_aspect(3/max_value)\n",
    "#plt.ylabel(\"Area ($\\mathbf{\\mu m^2}$)\", size = 20, fontweight='bold', labelpad=10)\n",
    "#plt.ylabel(\"Length ($\\mathbf{\\mu m}$)\", size = 20, fontweight='bold', labelpad=10)\n",
    "#plt.ylabel(\"Count\", size = 20, fontweight='bold', labelpad=10)\n",
    "plt.ylabel(r\"$\\mathbf{FI_{TMRM}}$ (a.u.)\", size = 20, fontweight='bold', labelpad=10)\n",
    "\n",
    "plt.xticks([0., 1., 2., 3.], [\"Control\", \"FCCP\", \"Oligomycin\", \"Rotenone\"], size = 20, fontweight='bold', rotation=30, ha='right')\n",
    "plt.yticks(size = 25, fontweight='bold')\n",
    "\n",
    "print(f'Levena for {name} = {stats.levene(mydata[0], mydata[1], mydata[2], mydata[3])}')\n",
    "print(f'ANOVA for {name} = {stats.f_oneway(mydata[0], mydata[1], mydata[2], mydata[3])}')\n",
    "\n",
    "# 0 vs 1\n",
    "pv = stats.ttest_ind(mydata[0], mydata[1], equal_var = False).pvalue\n",
    "print(f'P-value between group 0 and 1: {pv}')\n",
    "if pv <= 0.05:\n",
    "    bar_start = max_value * 1.04\n",
    "    barh = max_value * 0.02\n",
    "    left_x = 0\n",
    "    right_x = 0.95\n",
    "    barx = [left_x, left_x, right_x, right_x]\n",
    "    bary = [bar_start, bar_start+barh, bar_start+barh, bar_start]\n",
    "    mid = ((left_x+right_x)/2, bar_start+barh)\n",
    "    plt.plot(barx, bary, c='black', linewidth=5)\n",
    "    kwargs = dict(ha='center', va='bottom', fontsize='13')\n",
    "    plt.text(*mid, formatpv(pv), **kwargs)\n",
    "\n",
    "# 1 vs 2\n",
    "pv = stats.ttest_ind(mydata[1], mydata[2], equal_var = False).pvalue\n",
    "print(f'P-value between group 1 and 2: {pv}')\n",
    "if pv <= 0.05:\n",
    "    bar_start = max_value * 1.04\n",
    "    barh = max_value * 0.02\n",
    "    left_x = 1.05\n",
    "    right_x = 1.95\n",
    "    barx = [left_x, left_x, right_x, right_x]\n",
    "    bary = [bar_start, bar_start+barh, bar_start+barh, bar_start]\n",
    "    mid = ((left_x+right_x)/2, bar_start+barh)\n",
    "    plt.plot(barx, bary, c='black', linewidth=5)\n",
    "    kwargs = dict(ha='center', va='bottom', fontsize='13')\n",
    "    plt.text(*mid, formatpv(pv), **kwargs)\n",
    "\n",
    "# 2 vs 3\n",
    "pv = stats.ttest_ind(mydata[2], mydata[3], equal_var = False).pvalue\n",
    "print(f'P-value between group 2 and 3: {pv}')\n",
    "if pv <= 0.05:\n",
    "    bar_start = max_value * 1.04\n",
    "    barh = max_value * 0.02\n",
    "    left_x = 2.05\n",
    "    right_x = 3.00\n",
    "    barx = [left_x, left_x, right_x, right_x]\n",
    "    bary = [bar_start, bar_start+barh, bar_start+barh, bar_start]\n",
    "    mid = ((left_x+right_x)/2, bar_start+barh)\n",
    "    plt.plot(barx, bary, c='black', linewidth=5)\n",
    "    kwargs = dict(ha='center', va='bottom', fontsize='13')\n",
    "    plt.text(*mid, formatpv(pv), **kwargs)\n",
    "\n",
    "# 0 vs 2\n",
    "pv = stats.ttest_ind(mydata[0], mydata[2], equal_var = False).pvalue\n",
    "print(f'P-value between group 0 and 2: {pv}')\n",
    "if pv <= 0.05:\n",
    "    bar_start = max_value * 1.12\n",
    "    barh = max_value * 0.02\n",
    "    left_x = 0\n",
    "    right_x = 1.95\n",
    "    barx = [left_x, left_x, right_x, right_x]\n",
    "    bary = [bar_start, bar_start+barh, bar_start+barh, bar_start]\n",
    "    mid = ((left_x+right_x)/2, bar_start+barh)\n",
    "    plt.plot(barx, bary, c='black', linewidth=5)\n",
    "    kwargs = dict(ha='center', va='bottom', fontsize='13')\n",
    "    plt.text(*mid, formatpv(pv), **kwargs)\n",
    "\n",
    "# 1 vs 3\n",
    "pv = stats.ttest_ind(mydata[1], mydata[3], equal_var = False).pvalue\n",
    "print(f'P-value between group 1 and 3: {pv}')\n",
    "if pv <= 0.05:\n",
    "    bar_start = max_value * 1.20\n",
    "    barh = max_value * 0.02\n",
    "    left_x = 1.05\n",
    "    right_x = 3\n",
    "    barx = [left_x, left_x, right_x, right_x]\n",
    "    bary = [bar_start, bar_start+barh, bar_start+barh, bar_start]\n",
    "    mid = ((left_x+right_x)/2, bar_start+barh)\n",
    "    plt.plot(barx, bary, c='black', linewidth=5)\n",
    "    kwargs = dict(ha='center', va='bottom', fontsize='13')\n",
    "    plt.text(*mid, formatpv(pv), **kwargs)\n",
    "\n",
    "# 0 vs 3\n",
    "pv = stats.ttest_ind(mydata[0], mydata[3], equal_var = False).pvalue\n",
    "print(f'P-value between group 0 and 3: {pv}')\n",
    "if pv <= 0.05:\n",
    "    bar_start = max_value * 1.28\n",
    "    barh = max_value * 0.02\n",
    "    left_x = 0\n",
    "    right_x = 3\n",
    "    barx = [left_x, left_x, right_x, right_x]\n",
    "    bary = [bar_start, bar_start+barh, bar_start+barh, bar_start]\n",
    "    mid = ((left_x+right_x)/2, bar_start+barh)\n",
    "    plt.plot(barx, bary, c='black', linewidth=5)\n",
    "    kwargs = dict(ha='center', va='bottom', fontsize='13')\n",
    "    plt.text(*mid, formatpv(pv), **kwargs)\n",
    "\n",
    "plt.tight_layout()\n",
    "plt.savefig('Intensity.tif', dpi=300, format=\"tiff\", pil_kwargs={\"compression\": \"tiff_lzw\"})"
   ]
  }
 ],
 "metadata": {
  "kernelspec": {
   "display_name": "Python 3",
   "language": "python",
   "name": "python3"
  },
  "language_info": {
   "codemirror_mode": {
    "name": "ipython",
    "version": 3
   },
   "file_extension": ".py",
   "mimetype": "text/x-python",
   "name": "python",
   "nbconvert_exporter": "python",
   "pygments_lexer": "ipython3",
   "version": "3.12.4"
  }
 },
 "nbformat": 4,
 "nbformat_minor": 4
}
