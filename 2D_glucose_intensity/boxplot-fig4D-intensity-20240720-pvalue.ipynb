{
 "cells": [
  {
   "cell_type": "code",
   "execution_count": null,
   "metadata": {},
   "outputs": [],
   "source": [
    "from platform import python_version\n",
    "print(python_version())"
   ]
  },
  {
   "cell_type": "code",
   "execution_count": null,
   "metadata": {},
   "outputs": [],
   "source": [
    "import xlwings as xw\n",
    "import numpy as np\n",
    "import os, os.path\n",
    "import matplotlib.pyplot as plt\n",
    "import pandas as pd\n",
    "from scipy import stats\n",
    "from outliers import smirnov_grubbs as grubbs\n",
    "import seaborn as sns\n",
    "%matplotlib inline"
   ]
  },
  {
   "cell_type": "code",
   "execution_count": null,
   "metadata": {},
   "outputs": [],
   "source": [
    "def get_mean_intensity(his_dir, th):\n",
    "    file_name = []\n",
    "    for filename in os.listdir(his_dir):\n",
    "        if filename.endswith('.csv'):\n",
    "            file_name.append(filename)\n",
    "    excel_app = xw.App(visible=False)\n",
    "    all_mean = []\n",
    "    for j in range(len(file_name)):\n",
    "        temp_bk = excel_app.books.open(f'{his_dir}/{file_name[j]}')\n",
    "        print(temp_bk.sheets)\n",
    "        temp_sht = temp_bk.sheets[0]\n",
    "        temp_data = temp_sht.range(f'C{th+2}').options(np.array, expand=\"down\").value\n",
    "        temp_bk.close()\n",
    "\n",
    "        pixel_value = np.array(range(th,256))\n",
    "        if temp_data.sum() == 0:\n",
    "            all_mean.append(0)\n",
    "            print(\"no pixel over threshold happened!\")\n",
    "        else:\n",
    "            all_mean.append((temp_data * pixel_value).sum() / temp_data.sum())\n",
    "    excel_app.quit()\n",
    "    return all_mean"
   ]
  },
  {
   "cell_type": "code",
   "execution_count": null,
   "metadata": {},
   "outputs": [],
   "source": [
    "root_dir = 'histogram_list'\n",
    "file_num = []\n",
    "for filenum in os.listdir(root_dir):\n",
    "    file_num.append(filenum)\n",
    "file_num"
   ]
  },
  {
   "cell_type": "markdown",
   "metadata": {},
   "source": [
    "## Get the number of conditions"
   ]
  },
  {
   "cell_type": "code",
   "execution_count": null,
   "metadata": {
    "collapsed": true,
    "jupyter": {
     "outputs_hidden": true
    }
   },
   "outputs": [],
   "source": [
    "for i in file_num:\n",
    "    print(f'{root_dir}/{i}')\n",
    "    if i == '0X':\n",
    "        _0X_intensity = get_mean_intensity(f'{root_dir}/{i}', 0)\n",
    "    elif i == '1X':\n",
    "        _1X_intensity = get_mean_intensity(f'{root_dir}/{i}', 0)\n",
    "    elif i == '3X':\n",
    "        _3X_intensity = get_mean_intensity(f'{root_dir}/{i}', 0)\n",
    "    elif i == '6X':\n",
    "        _6X_intensity = get_mean_intensity(f'{root_dir}/{i}', 0)"
   ]
  },
  {
   "cell_type": "code",
   "execution_count": null,
   "metadata": {},
   "outputs": [],
   "source": [
    "autoThresholdValue = pd.read_csv(\"autoThresholdValue.csv\")\n",
    "print(type(autoThresholdValue))"
   ]
  },
  {
   "cell_type": "code",
   "execution_count": null,
   "metadata": {},
   "outputs": [],
   "source": [
    "print(len(autoThresholdValue))\n",
    "print(len(_0X_intensity))\n",
    "print(len(_1X_intensity))\n",
    "print(len(_3X_intensity))\n",
    "print(len(_6X_intensity))"
   ]
  },
  {
   "cell_type": "code",
   "execution_count": null,
   "metadata": {},
   "outputs": [],
   "source": [
    "print(len(autoThresholdValue['Value'].tolist()))\n",
    "print('===')\n",
    "_0X_th_value = autoThresholdValue['Value'].tolist()[0:60]\n",
    "_1X_th_value = autoThresholdValue['Value'].tolist()[60:110]\n",
    "_3X_th_value = autoThresholdValue['Value'].tolist()[110:174]\n",
    "_6X_th_value = autoThresholdValue['Value'].tolist()[174:232]\n",
    "print(len(_0X_th_value))\n",
    "print(len(_1X_th_value))\n",
    "print(len(_3X_th_value))\n",
    "print(len(_6X_th_value))"
   ]
  },
  {
   "cell_type": "code",
   "execution_count": null,
   "metadata": {},
   "outputs": [],
   "source": [
    "_0X_th = np.array(_0X_th_value)\n",
    "_1X_th = np.array(_1X_th_value)\n",
    "_3X_th = np.array(_3X_th_value)\n",
    "_6X_th = np.array(_6X_th_value)\n",
    "print(np.mean(_0X_th))\n",
    "print(np.mean(_1X_th))\n",
    "print(np.mean(_3X_th))\n",
    "print(np.mean(_6X_th))"
   ]
  },
  {
   "cell_type": "markdown",
   "metadata": {},
   "source": [
    "## The real deal"
   ]
  },
  {
   "cell_type": "code",
   "execution_count": null,
   "metadata": {
    "collapsed": true,
    "jupyter": {
     "outputs_hidden": true
    }
   },
   "outputs": [],
   "source": [
    "root_dir = 'histogram_list'\n",
    "file_num = []\n",
    "for filenum in os.listdir(root_dir):\n",
    "    file_num.append(filenum)\n",
    "\n",
    "for i in file_num:\n",
    "    print(f'{root_dir}/{i}')\n",
    "    if i == '0X':\n",
    "        _0X_intensity = get_mean_intensity(f'{root_dir}/{i}', 27)\n",
    "    elif i == '1X':\n",
    "        _1X_intensity = get_mean_intensity(f'{root_dir}/{i}', 26)\n",
    "    elif i == '3X':\n",
    "        _3X_intensity = get_mean_intensity(f'{root_dir}/{i}', 23)\n",
    "    elif i == '6X':\n",
    "        _6X_intensity = get_mean_intensity(f'{root_dir}/{i}', 23)"
   ]
  },
  {
   "cell_type": "code",
   "execution_count": null,
   "metadata": {},
   "outputs": [],
   "source": [
    "def formatpv(pv, threshold=1E-4):\n",
    "    if pv > threshold:\n",
    "        return str(f'P={pv:.4f}')\n",
    "    else:\n",
    "        return str(f'P={pv:.2E}')"
   ]
  },
  {
   "cell_type": "markdown",
   "metadata": {},
   "source": [
    "## Box plot"
   ]
  },
  {
   "cell_type": "code",
   "execution_count": null,
   "metadata": {},
   "outputs": [],
   "source": [
    "name = \"Intensity\"\n",
    "in_data = [_0X_intensity, _1X_intensity, _3X_intensity, _6X_intensity]\n",
    "mydata = [grubbs.test(in_data[0], alpha=0.05), grubbs.test(in_data[1], alpha=0.05), grubbs.test(in_data[2], alpha=0.05), grubbs.test(in_data[3], alpha=0.05)]\n",
    "max_value = np.amax([np.amax(mydata[0]), np.amax(mydata[1]), np.amax(mydata[2]), np.amax(mydata[3])])\n",
    "numBoxes = 4\n",
    "\n",
    "fig1, ax1 = plt.subplots(figsize=(6, 9),dpi=300)\n",
    "sns.boxplot(data = mydata, linewidth=3, showfliers=False)\n",
    "sns.swarmplot(data = mydata, color=\".25\", size=6)\n",
    "ax1.set_title(name, size = 34, fontweight='bold')\n",
    "# ax1.set_aspect(3/max_value)\n",
    "#plt.ylabel(\"Area ($\\mathbf{\\mu m^2}$)\", size = 20, fontweight='bold', labelpad=10)\n",
    "#plt.ylabel(\"Length ($\\mathbf{\\mu m}$)\", size = 20, fontweight='bold', labelpad=10)\n",
    "#plt.ylabel(\"Count\", size = 20, fontweight='bold', labelpad=10)\n",
    "plt.ylabel(r\"$\\mathbf{FI_{TMRM}}$ (a.u.)\", size = 20, fontweight='bold', labelpad=10)\n",
    "\n",
    "plt.xticks([0., 1., 2., 3.], [\"0X\", \"1X\", \"3X\", \"6X\"], size = 26, fontweight='bold', rotation=30)\n",
    "plt.yticks(size = 25, fontweight='bold')\n",
    "\n",
    "print(f'Levena for {name} = {stats.levene(mydata[0], mydata[1], mydata[2], mydata[3])}')\n",
    "print(f'ANOVA for {name} = {stats.f_oneway(mydata[0], mydata[1], mydata[2], mydata[3])}')\n",
    "\n",
    "# 0 vs 1\n",
    "pv = stats.ttest_ind(mydata[0], mydata[1], equal_var = False).pvalue\n",
    "print(f'P-value between group 0 and 1: {pv}')\n",
    "if pv <= 0.05:\n",
    "    bar_start = max_value * 1.04\n",
    "    barh = max_value * 0.02\n",
    "    left_x = 0\n",
    "    right_x = 0.95\n",
    "    barx = [left_x, left_x, right_x, right_x]\n",
    "    bary = [bar_start, bar_start+barh, bar_start+barh, bar_start]\n",
    "    mid = ((left_x+right_x)/2, bar_start+barh)\n",
    "    plt.plot(barx, bary, c='black', linewidth=5)\n",
    "    kwargs = dict(ha='center', va='bottom', fontsize='14')\n",
    "    plt.text(*mid, formatpv(pv), **kwargs)\n",
    "\n",
    "# 1 vs 2\n",
    "pv = stats.ttest_ind(mydata[1], mydata[2], equal_var = False).pvalue\n",
    "print(f'P-value between group 1 and 2: {pv}')\n",
    "if pv <= 0.05:\n",
    "    bar_start = max_value * 1.04\n",
    "    barh = max_value * 0.02\n",
    "    left_x = 1.05\n",
    "    right_x = 1.95\n",
    "    barx = [left_x, left_x, right_x, right_x]\n",
    "    bary = [bar_start, bar_start+barh, bar_start+barh, bar_start]\n",
    "    mid = ((left_x+right_x)/2, bar_start+barh)\n",
    "    plt.plot(barx, bary, c='black', linewidth=5)\n",
    "    kwargs = dict(ha='center', va='bottom', fontsize='14')\n",
    "    plt.text(*mid, formatpv(pv), **kwargs)\n",
    "\n",
    "# 2 vs 3\n",
    "pv = stats.ttest_ind(mydata[2], mydata[3], equal_var = False).pvalue\n",
    "print(f'P-value between group 2 and 3: {pv}')\n",
    "if pv <= 0.05:\n",
    "    bar_start = max_value * 1.04\n",
    "    barh = max_value * 0.02\n",
    "    left_x = 2.05\n",
    "    right_x = 2.95\n",
    "    barx = [left_x, left_x, right_x, right_x]\n",
    "    bary = [bar_start, bar_start+barh, bar_start+barh, bar_start]\n",
    "    mid = ((left_x+right_x)/2, bar_start+barh)\n",
    "    plt.plot(barx, bary, c='black', linewidth=5)\n",
    "    kwargs = dict(ha='center', va='bottom', fontsize='14')\n",
    "    plt.text(*mid, formatpv(pv), **kwargs)\n",
    "\n",
    "# 0 vs 2\n",
    "pv = stats.ttest_ind(mydata[0], mydata[2], equal_var = False).pvalue\n",
    "print(f'P-value between group 0 and 2: {pv}')\n",
    "if pv <= 0.05:\n",
    "    bar_start = max_value * 1.12\n",
    "    barh = max_value * 0.02\n",
    "    left_x = 0\n",
    "    right_x = 1.95\n",
    "    barx = [left_x, left_x, right_x, right_x]\n",
    "    bary = [bar_start, bar_start+barh, bar_start+barh, bar_start]\n",
    "    mid = ((left_x+right_x)/2, bar_start+barh)\n",
    "    plt.plot(barx, bary, c='black', linewidth=5)\n",
    "    kwargs = dict(ha='center', va='bottom', fontsize='14')\n",
    "    plt.text(*mid, formatpv(pv), **kwargs)\n",
    "\n",
    "\n",
    "# 1 vs 3\n",
    "pv = stats.ttest_ind(mydata[1], mydata[3], equal_var = False).pvalue\n",
    "print(f'P-value between group 1 and 3: {pv}')\n",
    "if pv <= 0.05:\n",
    "    bar_start = max_value * 1.20\n",
    "    barh = max_value * 0.02\n",
    "    left_x = 1\n",
    "    right_x = 2.95\n",
    "    barx = [left_x, left_x, right_x, right_x]\n",
    "    bary = [bar_start, bar_start+barh, bar_start+barh, bar_start]\n",
    "    mid = ((left_x+right_x)/2, bar_start+barh)\n",
    "    plt.plot(barx, bary, c='black', linewidth=5)\n",
    "    kwargs = dict(ha='center', va='bottom', fontsize='14')\n",
    "    plt.text(*mid, formatpv(pv), **kwargs)\n",
    "\n",
    "\n",
    "# 0 vs 3\n",
    "pv = stats.ttest_ind(mydata[0], mydata[3], equal_var = False).pvalue\n",
    "print(f'P-value between group 0 and 3: {pv}')\n",
    "if pv <= 0.05:\n",
    "    bar_start = max_value * 1.28\n",
    "    barh = max_value * 0.02\n",
    "    left_x = 0\n",
    "    right_x = 2.95\n",
    "    barx = [left_x, left_x, right_x, right_x]\n",
    "    bary = [bar_start, bar_start+barh, bar_start+barh, bar_start]\n",
    "    mid = ((left_x+right_x)/2, bar_start+barh)\n",
    "    plt.plot(barx, bary, c='black', linewidth=5)\n",
    "    kwargs = dict(ha='center', va='bottom', fontsize='14')\n",
    "    plt.text(*mid, formatpv(pv), **kwargs)\n",
    "\n",
    "plt.tight_layout()\n",
    "plt.savefig('Intensity_pv.tif', dpi=300, format=\"tiff\", pil_kwargs={\"compression\": \"tiff_lzw\"})"
   ]
  }
 ],
 "metadata": {
  "kernelspec": {
   "display_name": "Python 3",
   "language": "python",
   "name": "python3"
  },
  "language_info": {
   "codemirror_mode": {
    "name": "ipython",
    "version": 3
   },
   "file_extension": ".py",
   "mimetype": "text/x-python",
   "name": "python",
   "nbconvert_exporter": "python",
   "pygments_lexer": "ipython3",
   "version": "3.12.4"
  }
 },
 "nbformat": 4,
 "nbformat_minor": 4
}
