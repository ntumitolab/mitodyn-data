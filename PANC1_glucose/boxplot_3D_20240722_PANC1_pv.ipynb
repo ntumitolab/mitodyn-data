{
 "cells": [
  {
   "cell_type": "markdown",
   "metadata": {},
   "source": [
    "## PANC1 3D REDO"
   ]
  },
  {
   "cell_type": "code",
   "execution_count": null,
   "metadata": {},
   "outputs": [],
   "source": [
    "from platform import python_version\n",
    "print(python_version())"
   ]
  },
  {
   "cell_type": "code",
   "execution_count": null,
   "metadata": {},
   "outputs": [],
   "source": [
    "import xlwings as xw\n",
    "import numpy as np\n",
    "import pandas as pd\n",
    "import os, os.path\n",
    "import matplotlib.pyplot as plt\n",
    "import seaborn as sns\n",
    "from scipy import stats\n",
    "from outliers import smirnov_grubbs as grubbs"
   ]
  },
  {
   "cell_type": "code",
   "execution_count": null,
   "metadata": {},
   "outputs": [],
   "source": [
    "os.getcwd()"
   ]
  },
  {
   "cell_type": "code",
   "execution_count": null,
   "metadata": {},
   "outputs": [],
   "source": [
    "def formatpv(pv, threshold=1E-4):\n",
    "    if pv > threshold:\n",
    "        return str(f'P={pv:.4f}')\n",
    "    else:\n",
    "        return str(f'P={pv:.2E}')"
   ]
  },
  {
   "cell_type": "code",
   "execution_count": null,
   "metadata": {},
   "outputs": [],
   "source": [
    "# Plots 5 groups\n",
    "def Plot5_seaborn(in_data, name, unit, group, savedic = 'boxplot'):\n",
    "    mydata = in_data\n",
    "    # data = [temp_data_0X, temp_data_025X, temp_data_05X, temp_data_1X, temp_data_2X]\n",
    "    # data = [grubbs.test(in_data[0], alpha=0.05), grubbs.test(in_data[1], alpha=0.05),\n",
    "    #         grubbs.test(in_data[2], alpha=0.05), grubbs.test(in_data[3], alpha=0.05)]\n",
    "    max_value = np.amax([np.amax(mydata[0]), np.amax(mydata[1]), np.amax(mydata[2]), np.amax(mydata[3]), np.amax(mydata[4])])\n",
    "    numBoxes = 5\n",
    "    fig1, ax1 = plt.subplots(figsize=(6, 9), dpi=300)\n",
    "    sns.boxplot(data = mydata, linewidth=3, showfliers=False)\n",
    "    sns.swarmplot(data = mydata, color=\".25\", size=6)\n",
    "    if (name == \"Average Branch Length\") or (name == \"Branch Length Per Mito\"):\n",
    "        ax1.set_title(name, size = 24, fontweight='bold')\n",
    "    elif name == \"Max Volume / Total Volume\":\n",
    "        ax1.set_title(name, size = 22, fontweight='bold')\n",
    "    else :\n",
    "        ax1.set_title(name, size = 34, fontweight='bold')\n",
    "\n",
    "    #ax1.set_aspect(3/max_value)\n",
    "    if unit == 'volume':\n",
    "        plt.ylabel(r\"Volume ($\\mathbf{\\mu m^3}$)\", size = 20, fontweight='bold', labelpad=10)\n",
    "    elif unit == 'area':\n",
    "        plt.ylabel(r\"Area ($\\mathbf{\\mu m^2}$)\", size = 20, fontweight='bold', labelpad=10)\n",
    "    elif unit == 'length':\n",
    "        plt.ylabel(r\"Length ($\\mathbf{\\mu m}$)\", size = 20, fontweight='bold', labelpad=10)\n",
    "    elif unit == 'count':\n",
    "        plt.ylabel(\"Count\", size = 20, fontweight='bold', labelpad=10)\n",
    "    elif unit == 'a.u.':\n",
    "        plt.ylabel(\"a.u.\", size = 20, fontweight='bold', labelpad=10)\n",
    "    elif unit == 'ratio':\n",
    "        plt.ylabel(\"Ratio (a.u.)\", size = 20, fontweight='bold', labelpad=10)\n",
    "    #plt.yticks(size = 25, fontweight='bold')\n",
    "    plt.xticks([0., 1., 2., 3., 4.], [\"0X\", \"025X\", \"05X\", \"1X\", \"2X\"], size = 20, fontweight='bold', rotation=30, ha='right')\n",
    "    plt.yticks(size = 25, fontweight='bold')\n",
    "\n",
    "    print(f'Levena for {name} = {stats.levene(mydata[0], mydata[1], mydata[2], mydata[3])}')\n",
    "    print(f'ANOVA for {name} = {stats.f_oneway(mydata[0], mydata[1], mydata[2], mydata[3])}')\n",
    "\n",
    "    # 0 vs 1\n",
    "    pv = stats.ttest_ind(mydata[0], mydata[1], equal_var = False).pvalue\n",
    "    print(f'P-value between group 0 and 1: {pv}')\n",
    "    if pv <= 0.05:\n",
    "        bar_start = max_value * 1.04\n",
    "        barh = max_value * 0.02\n",
    "        left_x = 0\n",
    "        right_x = 0.95\n",
    "        barx = [left_x, left_x, right_x, right_x]\n",
    "        bary = [bar_start, bar_start+barh, bar_start+barh, bar_start]\n",
    "        mid = ((left_x+right_x)/2, bar_start+barh)\n",
    "        plt.plot(barx, bary, c='black', linewidth=5)\n",
    "        kwargs = dict(ha='center', va='bottom', fontsize='13')\n",
    "        plt.text(*mid, formatpv(pv), **kwargs)\n",
    "\n",
    "    # 1 vs 2\n",
    "    pv = stats.ttest_ind(mydata[1], mydata[2], equal_var = False).pvalue\n",
    "    print(f'P-value between group 1 and 2: {pv}')\n",
    "    if pv <= 0.05:\n",
    "        bar_start = max_value * 1.04\n",
    "        barh = max_value * 0.02\n",
    "        left_x = 1.05\n",
    "        right_x = 1.95\n",
    "        barx = [left_x, left_x, right_x, right_x]\n",
    "        bary = [bar_start, bar_start+barh, bar_start+barh, bar_start]\n",
    "        mid = ((left_x+right_x)/2, bar_start+barh)\n",
    "        plt.plot(barx, bary, c='black', linewidth=5)\n",
    "        kwargs = dict(ha='center', va='bottom', fontsize='13')\n",
    "        plt.text(*mid, formatpv(pv), **kwargs)\n",
    "\n",
    "    # 2 vs 3\n",
    "    pv = stats.ttest_ind(mydata[2], mydata[3], equal_var = False).pvalue\n",
    "    print(f'P-value between group 2 and 3: {pv}')\n",
    "    if pv <= 0.05:\n",
    "        bar_start = max_value * 1.04\n",
    "        barh = max_value * 0.02\n",
    "        left_x = 2.05\n",
    "        right_x = 2.95\n",
    "        barx = [left_x, left_x, right_x, right_x]\n",
    "        bary = [bar_start, bar_start+barh, bar_start+barh, bar_start]\n",
    "        mid = ((left_x+right_x)/2, bar_start+barh)\n",
    "        plt.plot(barx, bary, c='black', linewidth=5)\n",
    "        kwargs = dict(ha='center', va='bottom', fontsize='13')\n",
    "        plt.text(*mid, formatpv(pv), **kwargs)\n",
    "\n",
    "    # 3 vs 4\n",
    "    pv = stats.ttest_ind(mydata[3], mydata[4], equal_var = False).pvalue\n",
    "    print(f'P-value between group 3 and 4: {pv}')\n",
    "    if pv <= 0.05:\n",
    "        bar_start = max_value * 1.04\n",
    "        barh = max_value * 0.02\n",
    "        left_x = 3.05\n",
    "        right_x = 4.00\n",
    "        barx = [left_x, left_x, right_x, right_x]\n",
    "        bary = [bar_start, bar_start+barh, bar_start+barh, bar_start]\n",
    "        mid = ((left_x+right_x)/2, bar_start+barh)\n",
    "        plt.plot(barx, bary, c='black', linewidth=5)\n",
    "        kwargs = dict(ha='center', va='bottom', fontsize='13')\n",
    "        plt.text(*mid, formatpv(pv), **kwargs)\n",
    "\n",
    "    # 0 vs 2\n",
    "    pv = stats.ttest_ind(mydata[0], mydata[2], equal_var = False).pvalue\n",
    "    print(f'P-value between group 0 and 2: {pv}')\n",
    "    if pv <= 0.05:\n",
    "        bar_start = max_value * 1.12\n",
    "        barh = max_value * 0.02\n",
    "        left_x = 0\n",
    "        right_x = 1.95\n",
    "        barx = [left_x, left_x, right_x, right_x]\n",
    "        bary = [bar_start, bar_start+barh, bar_start+barh, bar_start]\n",
    "        mid = ((left_x+right_x)/2, bar_start+barh)\n",
    "        plt.plot(barx, bary, c='black', linewidth=5)\n",
    "        kwargs = dict(ha='center', va='bottom', fontsize='13')\n",
    "        plt.text(*mid, formatpv(pv), **kwargs)\n",
    "\n",
    "    # 1 vs 3\n",
    "    pv = stats.ttest_ind(mydata[1], mydata[3], equal_var = False).pvalue\n",
    "    print(f'P-value between group 1 and 3: {pv}')\n",
    "    if pv <= 0.05:\n",
    "        bar_start = max_value * 1.20\n",
    "        barh = max_value * 0.02\n",
    "        left_x = 1\n",
    "        right_x = 2.95\n",
    "        barx = [left_x, left_x, right_x, right_x]\n",
    "        bary = [bar_start, bar_start+barh, bar_start+barh, bar_start]\n",
    "        mid = ((left_x+right_x)/2, bar_start+barh)\n",
    "        plt.plot(barx, bary, c='black', linewidth=5)\n",
    "        kwargs = dict(ha='center', va='bottom', fontsize='13')\n",
    "        plt.text(*mid, formatpv(pv), **kwargs)\n",
    "\n",
    "    # 2 vs 4\n",
    "    pv = stats.ttest_ind(mydata[2], mydata[4], equal_var = False).pvalue\n",
    "    print(f'P-value between group 2 and 4: {pv}')\n",
    "    if pv <= 0.05:\n",
    "        bar_start = max_value * 1.28\n",
    "        barh = max_value * 0.02\n",
    "        left_x = 2.05\n",
    "        right_x = 4\n",
    "        barx = [left_x, left_x, right_x, right_x]\n",
    "        bary = [bar_start, bar_start+barh, bar_start+barh, bar_start]\n",
    "        mid = ((left_x+right_x)/2, bar_start+barh)\n",
    "        plt.plot(barx, bary, c='black', linewidth=5)\n",
    "        kwargs = dict(ha='center', va='bottom', fontsize='13')\n",
    "        plt.text(*mid, formatpv(pv), **kwargs)\n",
    "\n",
    "    # 0 vs 3\n",
    "    pv = stats.ttest_ind(mydata[0], mydata[3], equal_var = False).pvalue\n",
    "    print(f'P-value between group 0 and 3: {pv}')\n",
    "    if pv <= 0.05:\n",
    "        bar_start = max_value * 1.36\n",
    "        barh = max_value * 0.02\n",
    "        left_x = 0\n",
    "        right_x = 2.95\n",
    "        barx = [left_x, left_x, right_x, right_x]\n",
    "        bary = [bar_start, bar_start+barh, bar_start+barh, bar_start]\n",
    "        mid = ((left_x+right_x)/2, bar_start+barh)\n",
    "        plt.plot(barx, bary, c='black', linewidth=5)\n",
    "        kwargs = dict(ha='center', va='bottom', fontsize='13')\n",
    "        plt.text(*mid, formatpv(pv), **kwargs)\n",
    "\n",
    "    # 1 vs 4\n",
    "    pv = stats.ttest_ind(mydata[1], mydata[4], equal_var = False).pvalue\n",
    "    print(f'P-value between group 1 and 4: {pv}')\n",
    "    if pv <= 0.05:\n",
    "        bar_start = max_value * 1.44\n",
    "        barh = max_value * 0.02\n",
    "        left_x = 1\n",
    "        right_x = 4\n",
    "        barx = [left_x, left_x, right_x, right_x]\n",
    "        bary = [bar_start, bar_start+barh, bar_start+barh, bar_start]\n",
    "        mid = ((left_x+right_x)/2, bar_start+barh)\n",
    "        plt.plot(barx, bary, c='black', linewidth=5)\n",
    "        kwargs = dict(ha='center', va='bottom', fontsize='13')\n",
    "        plt.text(*mid, formatpv(pv), **kwargs)\n",
    "\n",
    "    # 0 vs 4\n",
    "    pv = stats.ttest_ind(mydata[0], mydata[4], equal_var = False).pvalue\n",
    "    print(f'P-value between group 0 and 4: {pv}')\n",
    "    if round(stats.ttest_ind(mydata[0], mydata[4], equal_var = False).pvalue, 4) <= 0.05:\n",
    "        bar_start = max_value * 1.52\n",
    "        barh = max_value * 0.02\n",
    "        left_x = 0\n",
    "        right_x = 4\n",
    "        barx = [left_x, left_x, right_x, right_x]\n",
    "        bary = [bar_start, bar_start+barh, bar_start+barh, bar_start]\n",
    "        mid = ((left_x+right_x)/2, bar_start+barh)\n",
    "        plt.plot(barx, bary, c='black', linewidth=5)\n",
    "        kwargs = dict(ha='center', va='bottom', fontsize='13')\n",
    "        plt.text(*mid, formatpv(pv), **kwargs)\n",
    "\n",
    "    plt.tight_layout()\n",
    "\n",
    "    os.makedirs(f'boxplot/{group}', exist_ok=True)\n",
    "    if name == \"Max Volume / Total Volume\" :\n",
    "        plt.savefig(f'{savedic}/{group}/MaxTotal.tif', dpi=300, format=\"tiff\", pil_kwargs={\"compression\": \"tiff_lzw\"})\n",
    "    elif name == \"Deg 1 / Deg 3\":\n",
    "        plt.savefig(f'{savedic}/{group}/Deg1_to_Deg3.tif', dpi=300, format=\"tiff\", pil_kwargs={\"compression\": \"tiff_lzw\"})\n",
    "    else:\n",
    "        plt.savefig(f'{savedic}/{group}/{name}.tif', dpi=300, format=\"tiff\", pil_kwargs={\"compression\": \"tiff_lzw\"})\n",
    "    plt.gcf()"
   ]
  },
  {
   "cell_type": "markdown",
   "metadata": {},
   "source": [
    "### Analyze_Particle_3D"
   ]
  },
  {
   "cell_type": "code",
   "execution_count": null,
   "metadata": {},
   "outputs": [],
   "source": [
    "# define the directory of the csv\n",
    "# APS = Analyze Particle Summary\n",
    "APS_0X_dir = './data_for_plot/Analyze_Particle_3D/0X'\n",
    "APS_025X_dir = './data_for_plot/Analyze_Particle_3D/025X'\n",
    "APS_05X_dir = './data_for_plot/Analyze_Particle_3D/05X'\n",
    "APS_1X_dir = './data_for_plot/Analyze_Particle_3D/1X'\n",
    "APS_2X_dir = './data_for_plot/Analyze_Particle_3D/2X'\n",
    "\n",
    "# get the filename list\n",
    "file_name_APS_0X = []\n",
    "file_name_APS_025X = []\n",
    "file_name_APS_05X = []\n",
    "file_name_APS_1X = []\n",
    "file_name_APS_2X = []\n",
    "for filename in os.listdir(APS_0X_dir):\n",
    "    if filename.endswith(\".csv\"):\n",
    "        file_name_APS_0X.append(filename)\n",
    "for filename in os.listdir(APS_025X_dir):\n",
    "    if filename.endswith(\".csv\"):\n",
    "        file_name_APS_025X.append(filename)\n",
    "for filename in os.listdir(APS_05X_dir):\n",
    "    if filename.endswith(\".csv\"):\n",
    "        file_name_APS_05X.append(filename)\n",
    "for filename in os.listdir(APS_1X_dir):\n",
    "    if filename.endswith(\".csv\"):\n",
    "        file_name_APS_1X.append(filename)\n",
    "for filename in os.listdir(APS_2X_dir):\n",
    "    if filename.endswith(\".csv\"):\n",
    "        file_name_APS_2X.append(filename)\n",
    "\n",
    "glu_con = ['0X', '025X', '05X', '1X', '2X']\n",
    "file_name_APS_list = [file_name_APS_0X, file_name_APS_025X, file_name_APS_05X, file_name_APS_1X, file_name_APS_2X]\n",
    "Count = [[],[],[],[],[]]\n",
    "nCount = [[],[],[],[],[]]\n",
    "TotalVolume = [[],[],[],[],[]]\n",
    "AvgVolume = [[],[],[],[],[]]\n",
    "SurfaceArea = [[],[],[],[],[]]\n",
    "Sphericity = [[],[],[],[],[]]\n",
    "MaxVolume = [[],[],[],[],[]]\n",
    "\n",
    "for i in range(len(glu_con)):\n",
    "    for j in range(len(file_name_APS_list[i])):\n",
    "        df = pd.read_csv(f'./data_for_plot/Analyze_Particle_3D/{glu_con[i]}/{file_name_APS_list[i][j]}', index_col=0)\n",
    "        df.drop(index=df.index[-1], axis=0, inplace=True)\n",
    "        Count[i].append(df[df.columns[0]].count())\n",
    "        SurfaceArea[i].append(df['SurfaceArea'].mean())\n",
    "        TotalVolume[i].append(df['Volume'].sum())\n",
    "        nCount[i].append(df[df.columns[0]].count()/df['Volume'].sum())\n",
    "        AvgVolume[i].append(df['Volume'].mean())\n",
    "        Sphericity[i].append(df['Sphericity'].mean())\n",
    "        MaxVolume[i].append(df.loc[df['Volume'].idxmax()]['Volume'])\n",
    "\n",
    "total_volume_0X_np = np.array(TotalVolume[0])\n",
    "total_volume_025X_np = np.array(TotalVolume[1])\n",
    "total_volume_05X_np = np.array(TotalVolume[2])\n",
    "total_volume_1X_np = np.array(TotalVolume[3])\n",
    "total_volume_2X_np = np.array(TotalVolume[4])\n",
    "\n",
    "max_volume_0X_np = np.array(MaxVolume[0])\n",
    "max_volume_025X_np = np.array(MaxVolume[1])\n",
    "max_volume_05X_np = np.array(MaxVolume[2])\n",
    "max_volume_1X_np = np.array(MaxVolume[3])\n",
    "max_volume_2X_np = np.array(MaxVolume[4])\n",
    "\n",
    "temp_data_0X = max_volume_0X_np/total_volume_0X_np\n",
    "temp_data_025X = max_volume_025X_np/total_volume_025X_np\n",
    "temp_data_05X = max_volume_05X_np/total_volume_05X_np\n",
    "temp_data_1X = max_volume_1X_np/total_volume_1X_np\n",
    "temp_data_2X = max_volume_2X_np/total_volume_2X_np\n",
    "MaxTotal = [temp_data_0X, temp_data_025X, temp_data_05X, temp_data_1X, temp_data_2X]"
   ]
  },
  {
   "cell_type": "markdown",
   "metadata": {},
   "source": [
    "### Skeleton_Results"
   ]
  },
  {
   "cell_type": "code",
   "execution_count": null,
   "metadata": {},
   "outputs": [],
   "source": [
    "# define the directory of the csv\n",
    "# APR = Analyze Particle Results\n",
    "SR_0X_dir = './data_for_plot/Skeleton_Results/0X'\n",
    "SR_025X_dir = './data_for_plot/Skeleton_Results/025X'\n",
    "SR_05X_dir = './data_for_plot/Skeleton_Results/05X'\n",
    "SR_1X_dir = './data_for_plot/Skeleton_Results/1X'\n",
    "SR_2X_dir = './data_for_plot/Skeleton_Results/2X'\n",
    "\n",
    "# get the filename list\n",
    "file_name_SR_0X = []\n",
    "file_name_SR_025X = []\n",
    "file_name_SR_05X = []\n",
    "file_name_SR_1X = []\n",
    "file_name_SR_2X = []\n",
    "\n",
    "for filename in os.listdir(SR_0X_dir):\n",
    "    if filename.endswith(\".csv\"):\n",
    "        file_name_SR_0X.append(filename)\n",
    "for filename in os.listdir(SR_025X_dir):\n",
    "    if filename.endswith(\".csv\"):\n",
    "        file_name_SR_025X.append(filename)\n",
    "for filename in os.listdir(SR_05X_dir):\n",
    "    if filename.endswith(\".csv\"):\n",
    "        file_name_SR_05X.append(filename)\n",
    "for filename in os.listdir(SR_1X_dir):\n",
    "    if filename.endswith(\".csv\"):\n",
    "        file_name_SR_1X.append(filename)\n",
    "for filename in os.listdir(SR_2X_dir):\n",
    "    if filename.endswith(\".csv\"):\n",
    "        file_name_SR_2X.append(filename)\n",
    "\n",
    "glu_con = ['0X', '025X', '05X', '1X', '2X']\n",
    "file_name_SR_list = [file_name_SR_0X, file_name_SR_025X, file_name_SR_05X, file_name_SR_1X, file_name_SR_2X]\n",
    "\n",
    "TotalBranches = [[],[],[],[],[]]\n",
    "AvgBranches = [[],[],[],[],[]]\n",
    "ABL = [[],[],[],[],[]]\n",
    "BLpM = [[],[],[],[],[]]\n",
    "TotalDeg1 = [[],[],[],[],[]]\n",
    "TotalDeg2 = [[],[],[],[],[]]\n",
    "TotalDeg3 = [[],[],[],[],[]]\n",
    "AvgDeg1 = [[],[],[],[],[]]\n",
    "AvgDeg2 = [[],[],[],[],[]]\n",
    "AvgDeg3 = [[],[],[],[],[]]\n",
    "AvgDeg = [[],[],[],[],[]]\n",
    "\n",
    "\n",
    "\n",
    "\n",
    "for i in range(len(glu_con)):\n",
    "    for j in range(len(file_name_SR_list[i])):\n",
    "        df = pd.read_csv(f'./data_for_plot/Skeleton_Results/{glu_con[i]}/{file_name_SR_list[i][j]}', index_col=0)\n",
    "        # Calculate deg 2\n",
    "        fake_deg2 = np.zeros(df[df.columns[0]].count())\n",
    "        deg2 = np.zeros(df[df.columns[0]].count())\n",
    "        real_ABL = np.sum(df['# Branches'] * df['Average Branch Length']) / np.sum(df['# Branches'])\n",
    "        for k in range(len(deg2)):\n",
    "            fake_deg2[k] = (df['# Branches'][k+1] * df['Average Branch Length'][k+1]) / real_ABL\n",
    "            dif = round(fake_deg2[k] - (df['# End-point voxels'][k+1] + df['# Junctions'][k+1])) # dif = #2 - (#1 + #3), 0)\n",
    "            if dif <= 0:\n",
    "                deg2[k] = 0\n",
    "            elif dif > 0 :\n",
    "                deg2[k] = dif\n",
    "        df['fake_Deg2'] = fake_deg2\n",
    "        df['Deg2'] = deg2\n",
    "\n",
    "        TotalBranches[i].append(df['# Branches'].sum())\n",
    "        AvgBranches[i].append(df['# Branches'].mean())\n",
    "        ABL[i].append(df['Average Branch Length'].mean())\n",
    "        BLpM[i].append((df['# Branches'] * df['Average Branch Length']).mean())\n",
    "        TotalDeg1[i].append(df['# End-point voxels'].sum())\n",
    "        TotalDeg2[i].append(df['Deg2'].sum())\n",
    "        TotalDeg3[i].append(df['# Junctions'].sum())\n",
    "        AvgDeg1[i].append(df['# End-point voxels'].mean())\n",
    "        AvgDeg2[i].append(df['Deg2'].mean())\n",
    "        AvgDeg3[i].append(df['# Junctions'].mean())\n",
    "        avgdeg = (df['# End-point voxels'].sum() + 2*df['Deg2'].sum() + 3*df['# Junctions'].sum()) / (df['# End-point voxels'].sum() + df['Deg2'].sum() + df['# Junctions'].sum())\n",
    "        AvgDeg[i].append(avgdeg)\n",
    "\n",
    "TotalDeg1_0X_np = np.array(TotalDeg1[0])\n",
    "TotalDeg1_025X_np = np.array(TotalDeg1[1])\n",
    "TotalDeg1_05X_np = np.array(TotalDeg1[2])\n",
    "TotalDeg1_1X_np = np.array(TotalDeg1[3])\n",
    "TotalDeg1_2X_np = np.array(TotalDeg1[4])\n",
    "\n",
    "TotalDeg2_0X_np = np.array(TotalDeg2[0])\n",
    "TotalDeg2_025X_np = np.array(TotalDeg2[1])\n",
    "TotalDeg2_05X_np = np.array(TotalDeg2[2])\n",
    "TotalDeg2_1X_np = np.array(TotalDeg2[3])\n",
    "TotalDeg2_2X_np = np.array(TotalDeg2[4])\n",
    "\n",
    "TotalDeg3_0X_np = np.array(TotalDeg3[0])\n",
    "TotalDeg3_025X_np = np.array(TotalDeg3[1])\n",
    "TotalDeg3_05X_np = np.array(TotalDeg3[2])\n",
    "TotalDeg3_1X_np = np.array(TotalDeg3[3])\n",
    "TotalDeg3_2X_np = np.array(TotalDeg3[4])\n",
    "\n",
    "# Deg1_to_Deg3\n",
    "temp_data_0X = TotalDeg1_0X_np/TotalDeg3_0X_np\n",
    "temp_data_025X = TotalDeg1_025X_np/TotalDeg3_025X_np\n",
    "temp_data_05X = TotalDeg1_05X_np/TotalDeg3_05X_np\n",
    "temp_data_1X = TotalDeg1_1X_np/TotalDeg3_1X_np\n",
    "temp_data_2X = TotalDeg1_2X_np/TotalDeg3_2X_np\n",
    "Deg1_to_Deg3 = [temp_data_0X, temp_data_025X, temp_data_05X, temp_data_1X, temp_data_2X]\n",
    "\n",
    "# nDeg1\n",
    "temp_data_0X = TotalDeg1_0X_np/total_volume_0X_np\n",
    "temp_data_025X = TotalDeg1_025X_np/total_volume_025X_np\n",
    "temp_data_05X = TotalDeg1_05X_np/total_volume_05X_np\n",
    "temp_data_1X = TotalDeg1_1X_np/total_volume_1X_np\n",
    "temp_data_2X = TotalDeg1_2X_np/total_volume_2X_np\n",
    "nDeg1 = [temp_data_0X, temp_data_025X, temp_data_05X, temp_data_1X, temp_data_2X]\n",
    "\n",
    "#nDeg2\n",
    "temp_data_0X = TotalDeg2_0X_np/total_volume_0X_np\n",
    "temp_data_025X = TotalDeg2_025X_np/total_volume_025X_np\n",
    "temp_data_05X = TotalDeg2_05X_np/total_volume_05X_np\n",
    "temp_data_1X = TotalDeg2_1X_np/total_volume_1X_np\n",
    "temp_data_2X = TotalDeg2_2X_np/total_volume_2X_np\n",
    "nDeg2 = [temp_data_0X, temp_data_025X, temp_data_05X, temp_data_1X, temp_data_2X]\n",
    "\n",
    "#nDeg3\n",
    "temp_data_0X = TotalDeg3_0X_np/total_volume_0X_np\n",
    "temp_data_025X = TotalDeg3_025X_np/total_volume_025X_np\n",
    "temp_data_05X = TotalDeg3_05X_np/total_volume_05X_np\n",
    "temp_data_1X = TotalDeg3_1X_np/total_volume_1X_np\n",
    "temp_data_2X = TotalDeg3_2X_np/total_volume_2X_np\n",
    "nDeg3 = [temp_data_0X, temp_data_025X, temp_data_05X, temp_data_1X, temp_data_2X]"
   ]
  },
  {
   "cell_type": "code",
   "execution_count": null,
   "metadata": {},
   "outputs": [],
   "source": [
    "Plot5_seaborn(Count, \"Count\", unit = \"count\", group = \"particle\")"
   ]
  },
  {
   "cell_type": "code",
   "execution_count": null,
   "metadata": {},
   "outputs": [],
   "source": [
    "Plot5_seaborn(nCount, \"Normalized Count\", unit = \"count\", group = \"particle\")"
   ]
  },
  {
   "cell_type": "code",
   "execution_count": null,
   "metadata": {},
   "outputs": [],
   "source": [
    "Plot5_seaborn(TotalVolume, \"Total Volume\", unit = \"volume\", group = \"particle\")"
   ]
  },
  {
   "cell_type": "code",
   "execution_count": null,
   "metadata": {},
   "outputs": [],
   "source": [
    "Plot5_seaborn(AvgVolume, \"Average Volume\", unit = \"volume\", group = \"particle\")"
   ]
  },
  {
   "cell_type": "code",
   "execution_count": null,
   "metadata": {},
   "outputs": [],
   "source": [
    "Plot5_seaborn(SurfaceArea, \"Surface Area\", unit = \"area\", group = \"particle\")"
   ]
  },
  {
   "cell_type": "code",
   "execution_count": null,
   "metadata": {},
   "outputs": [],
   "source": [
    "Plot5_seaborn(Sphericity, \"Sphericity\", unit = \"a.u.\", group = \"particle\")"
   ]
  },
  {
   "cell_type": "code",
   "execution_count": null,
   "metadata": {},
   "outputs": [],
   "source": [
    "Plot5_seaborn(MaxTotal, \"Max Volume / Total Volume\", unit = \"ratio\", group = \"particle\")"
   ]
  },
  {
   "cell_type": "code",
   "execution_count": null,
   "metadata": {},
   "outputs": [],
   "source": [
    "Plot5_seaborn(TotalBranches, 'Total Branches', unit = 'count', group = \"skeleton\")"
   ]
  },
  {
   "cell_type": "code",
   "execution_count": null,
   "metadata": {},
   "outputs": [],
   "source": [
    "Plot5_seaborn(AvgBranches, 'Average Branches', unit = 'count', group = \"skeleton\")"
   ]
  },
  {
   "cell_type": "code",
   "execution_count": null,
   "metadata": {},
   "outputs": [],
   "source": [
    "Plot5_seaborn(ABL, 'Average Branch Length', unit = 'length', group = \"skeleton\")"
   ]
  },
  {
   "cell_type": "code",
   "execution_count": null,
   "metadata": {},
   "outputs": [],
   "source": [
    "Plot5_seaborn(BLpM, 'Branch Length Per Mito', unit = 'length', group = \"skeleton\")"
   ]
  },
  {
   "cell_type": "code",
   "execution_count": null,
   "metadata": {},
   "outputs": [],
   "source": [
    "Plot5_seaborn(TotalDeg1, 'Total Deg 1', unit = 'count', group = \"skeleton\")"
   ]
  },
  {
   "cell_type": "code",
   "execution_count": null,
   "metadata": {},
   "outputs": [],
   "source": [
    "Plot5_seaborn(TotalDeg2, 'Total Deg 2', unit = 'count', group = \"skeleton\")"
   ]
  },
  {
   "cell_type": "code",
   "execution_count": null,
   "metadata": {},
   "outputs": [],
   "source": [
    "Plot5_seaborn(TotalDeg3, 'Total Deg 3', unit = 'count', group = \"skeleton\")"
   ]
  },
  {
   "cell_type": "code",
   "execution_count": null,
   "metadata": {},
   "outputs": [],
   "source": [
    "Plot5_seaborn(AvgDeg1, 'Average Deg 1', unit = 'count', group = \"skeleton\")"
   ]
  },
  {
   "cell_type": "code",
   "execution_count": null,
   "metadata": {
    "jupyter": {
     "outputs_hidden": true
    },
    "scrolled": false
   },
   "outputs": [],
   "source": [
    "Plot5_seaborn(AvgDeg1, 'Average Deg 1', unit = 'count', group = \"skeleton\")\n"
   ]
  },
  {
   "cell_type": "code",
   "execution_count": null,
   "metadata": {},
   "outputs": [],
   "source": [
    "Plot5_seaborn(AvgDeg2, 'Average Deg 2', unit = 'count', group = \"skeleton\")\n"
   ]
  },
  {
   "cell_type": "code",
   "execution_count": null,
   "metadata": {},
   "outputs": [],
   "source": [
    "Plot5_seaborn(AvgDeg3, 'Average Deg 3', unit = 'count', group = \"skeleton\")\n"
   ]
  },
  {
   "cell_type": "code",
   "execution_count": null,
   "metadata": {},
   "outputs": [],
   "source": [
    "Plot5_seaborn(nDeg1, 'Normalized Deg 1', unit = 'count', group = \"skeleton\")\n"
   ]
  },
  {
   "cell_type": "code",
   "execution_count": null,
   "metadata": {},
   "outputs": [],
   "source": [
    "Plot5_seaborn(nDeg2, 'Normalized Deg 2', unit = 'count', group = \"skeleton\")\n"
   ]
  },
  {
   "cell_type": "code",
   "execution_count": null,
   "metadata": {},
   "outputs": [],
   "source": [
    "Plot5_seaborn(nDeg3, 'Normalized Deg 3',  unit = 'count', group = \"skeleton\")\n"
   ]
  },
  {
   "cell_type": "code",
   "execution_count": null,
   "metadata": {},
   "outputs": [],
   "source": [
    "Plot5_seaborn(AvgDeg, 'Average Degree', unit = 'count', group = \"skeleton\")\n"
   ]
  },
  {
   "cell_type": "code",
   "execution_count": null,
   "metadata": {},
   "outputs": [],
   "source": [
    "Plot5_seaborn(Deg1_to_Deg3, \"Deg 1 / Deg 3\", unit = 'ratio', group = \"skeleton\")"
   ]
  }
 ],
 "metadata": {
  "kernelspec": {
   "display_name": "Python 3",
   "language": "python",
   "name": "python3"
  },
  "language_info": {
   "codemirror_mode": {
    "name": "ipython",
    "version": 3
   },
   "file_extension": ".py",
   "mimetype": "text/x-python",
   "name": "python",
   "nbconvert_exporter": "python",
   "pygments_lexer": "ipython3",
   "version": "3.12.4"
  }
 },
 "nbformat": 4,
 "nbformat_minor": 4
}
