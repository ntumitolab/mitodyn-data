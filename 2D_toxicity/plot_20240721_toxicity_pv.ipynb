{
 "cells": [
  {
   "cell_type": "code",
   "execution_count": null,
   "metadata": {},
   "outputs": [],
   "source": [
    "from platform import python_version\n",
    "print(python_version())"
   ]
  },
  {
   "cell_type": "code",
   "execution_count": null,
   "metadata": {},
   "outputs": [],
   "source": [
    "import xlwings as xw\n",
    "import numpy as np\n",
    "import pandas as pd\n",
    "import os, os.path\n",
    "import matplotlib.pyplot as plt\n",
    "import seaborn as sns\n",
    "from scipy import stats\n",
    "from outliers import smirnov_grubbs as grubbs"
   ]
  },
  {
   "cell_type": "code",
   "execution_count": null,
   "metadata": {},
   "outputs": [],
   "source": [
    "os.getcwd()"
   ]
  },
  {
   "cell_type": "code",
   "execution_count": null,
   "metadata": {},
   "outputs": [],
   "source": [
    "def formatpv(pv, threshold=1E-4):\n",
    "    if pv > threshold:\n",
    "        return str(f'P={pv:.4f}')\n",
    "    else:\n",
    "        return str(f'P={pv:.2E}')"
   ]
  },
  {
   "cell_type": "markdown",
   "metadata": {},
   "source": [
    "## 4 cells"
   ]
  },
  {
   "cell_type": "code",
   "execution_count": null,
   "metadata": {},
   "outputs": [],
   "source": [
    "def Plot4_seaborn(in_data, name, unit, group):\n",
    "    mydata = in_data\n",
    "    # data = [temp_data_0X, temp_data_025X, temp_data_05X, temp_data_1X, temp_data_2X]\n",
    "    # data = [grubbs.test(in_data[0], alpha=0.05), grubbs.test(in_data[1], alpha=0.05),\n",
    "    #         grubbs.test(in_data[2], alpha=0.05), grubbs.test(in_data[3], alpha=0.05)]\n",
    "    max_value = np.amax([np.amax(mydata[0]), np.amax(mydata[1]), np.amax(mydata[2]), np.amax(mydata[3])])\n",
    "    numBoxes = 4\n",
    "    fig1, ax1 = plt.subplots(figsize=(6, 9), dpi=300)\n",
    "    sns.boxplot(data = mydata, linewidth=3, showfliers=False)\n",
    "    sns.swarmplot(data = mydata, color=\".25\", size=6)\n",
    "    if (name == \"Average Branch Length\") or (name == \"Branch Length Per Mito\"):\n",
    "        ax1.set_title(name, size = 24, fontweight='bold')\n",
    "    elif name == \"Max Area / Total Area\":\n",
    "        ax1.set_title(name, size = 22, fontweight='bold')\n",
    "    else :\n",
    "        ax1.set_title(name, size = 34, fontweight='bold')\n",
    "\n",
    "    #ax1.set_aspect(3/max_value)\n",
    "    if unit == 'volume':\n",
    "        plt.ylabel(r\"Volume ($\\mathbf{\\mu m^3}$)\", size = 20, fontweight='bold', labelpad=10)\n",
    "    elif unit == 'area':\n",
    "        plt.ylabel(r\"Area ($\\mathbf{\\mu m^2}$)\", size = 20, fontweight='bold', labelpad=10)\n",
    "    elif unit == 'length':\n",
    "        plt.ylabel(r\"Length ($\\mathbf{\\mu m}$)\", size = 20, fontweight='bold', labelpad=10)\n",
    "    elif unit == 'count':\n",
    "        plt.ylabel(\"Count\", size = 20, fontweight='bold', labelpad=10)\n",
    "    elif unit == 'a.u.':\n",
    "        plt.ylabel(\"a.u.\", size = 20, fontweight='bold', labelpad=10)\n",
    "    elif unit == 'ratio':\n",
    "        plt.ylabel(\"Ratio (a.u.)\", size = 20, fontweight='bold', labelpad=10)\n",
    "    #plt.yticks(size = 25, fontweight='bold')\n",
    "    plt.xticks([0., 1., 2., 3.], [\"Control\", \"FCCP\", \"Oligomycin\", \"Rotenone\"], size = 20, fontweight='bold', rotation=30, ha='right')\n",
    "    plt.yticks(size = 25, fontweight='bold')\n",
    "\n",
    "    print(f'Levena for {name} = {stats.levene(mydata[0], mydata[1], mydata[2], mydata[3])}')\n",
    "    print(f'ANOVA for {name} = {stats.f_oneway(mydata[0], mydata[1], mydata[2], mydata[3])}')\n",
    "\n",
    "    # 0 vs 1\n",
    "    pv = stats.ttest_ind(mydata[0], mydata[1], equal_var = False).pvalue\n",
    "    print(f'P-value between group 0 and 1: {pv}')\n",
    "    if pv <= 0.05:\n",
    "        bar_start = max_value * 1.04\n",
    "        barh = max_value * 0.02\n",
    "        left_x = 0\n",
    "        right_x = 0.95\n",
    "        barx = [left_x, left_x, right_x, right_x]\n",
    "        bary = [bar_start, bar_start+barh, bar_start+barh, bar_start]\n",
    "        mid = ((left_x+right_x)/2, bar_start+barh)\n",
    "        plt.plot(barx, bary, c='black', linewidth=5)\n",
    "        kwargs = dict(ha='center', va='bottom', fontsize='13')\n",
    "        plt.text(*mid, formatpv(pv), **kwargs)\n",
    "\n",
    "    # 1 vs 2\n",
    "    pv = stats.ttest_ind(mydata[1], mydata[2], equal_var = False).pvalue\n",
    "    print(f'P-value between group 1 and 2: {pv}')\n",
    "    if pv <= 0.05:\n",
    "        bar_start = max_value * 1.04\n",
    "        barh = max_value * 0.02\n",
    "        left_x = 1.05\n",
    "        right_x = 1.95\n",
    "        barx = [left_x, left_x, right_x, right_x]\n",
    "        bary = [bar_start, bar_start+barh, bar_start+barh, bar_start]\n",
    "        mid = ((left_x+right_x)/2, bar_start+barh)\n",
    "        plt.plot(barx, bary, c='black', linewidth=5)\n",
    "        kwargs = dict(ha='center', va='bottom', fontsize='13')\n",
    "        plt.text(*mid, formatpv(pv), **kwargs)\n",
    "\n",
    "    # 2 vs 3\n",
    "    pv = stats.ttest_ind(mydata[2], mydata[3], equal_var = False).pvalue\n",
    "    print(f'P-value between group 2 and 3: {pv}')\n",
    "    if pv <= 0.05:\n",
    "        bar_start = max_value * 1.04\n",
    "        barh = max_value * 0.02\n",
    "        left_x = 2.05\n",
    "        right_x = 2.95\n",
    "        barx = [left_x, left_x, right_x, right_x]\n",
    "        bary = [bar_start, bar_start+barh, bar_start+barh, bar_start]\n",
    "        mid = ((left_x+right_x)/2, bar_start+barh)\n",
    "        plt.plot(barx, bary, c='black', linewidth=5)\n",
    "        kwargs = dict(ha='center', va='bottom', fontsize='13')\n",
    "        plt.text(*mid, formatpv(pv), **kwargs)\n",
    "\n",
    "    # 0 vs 2\n",
    "    pv = stats.ttest_ind(mydata[0], mydata[2], equal_var = False).pvalue\n",
    "    print(f'P-value between group 0 and 2: {pv}')\n",
    "    if pv <= 0.05:\n",
    "        bar_start = max_value * 1.12\n",
    "        barh = max_value * 0.02\n",
    "        left_x = 0\n",
    "        right_x = 1.95\n",
    "        barx = [left_x, left_x, right_x, right_x]\n",
    "        bary = [bar_start, bar_start+barh, bar_start+barh, bar_start]\n",
    "        mid = ((left_x+right_x)/2, bar_start+barh)\n",
    "        plt.plot(barx, bary, c='black', linewidth=5)\n",
    "        kwargs = dict(ha='center', va='bottom', fontsize='13')\n",
    "        plt.text(*mid, formatpv(pv), **kwargs)\n",
    "\n",
    "    # 1 vs 3\n",
    "    pv = stats.ttest_ind(mydata[1], mydata[3], equal_var = False).pvalue\n",
    "    print(f'P-value between group 1 and 3: {pv}')\n",
    "    if pv <= 0.05:\n",
    "        bar_start = max_value * 1.20\n",
    "        barh = max_value * 0.02\n",
    "        left_x = 1\n",
    "        right_x = 2.95\n",
    "        barx = [left_x, left_x, right_x, right_x]\n",
    "        bary = [bar_start, bar_start+barh, bar_start+barh, bar_start]\n",
    "        mid = ((left_x+right_x)/2, bar_start+barh)\n",
    "        plt.plot(barx, bary, c='black', linewidth=5)\n",
    "        kwargs = dict(ha='center', va='bottom', fontsize='13')\n",
    "        plt.text(*mid, formatpv(pv), **kwargs)\n",
    "\n",
    "    # 0 vs 3\n",
    "    pv = stats.ttest_ind(mydata[0], mydata[3], equal_var = False).pvalue\n",
    "    print(f'P-value between group 0 and 3: {pv}')\n",
    "    if round(pv, 4) <= 0.05:\n",
    "        bar_start = max_value * 1.28\n",
    "        barh = max_value * 0.02\n",
    "        left_x = 0\n",
    "        right_x = 2.95\n",
    "        barx = [left_x, left_x, right_x, right_x]\n",
    "        bary = [bar_start, bar_start+barh, bar_start+barh, bar_start]\n",
    "        mid = ((left_x+right_x)/2, bar_start+barh)\n",
    "        plt.plot(barx, bary, c='black', linewidth=5)\n",
    "        kwargs = dict(ha='center', va='bottom', fontsize='13')\n",
    "        plt.text(*mid, formatpv(pv), **kwargs)\n",
    "\n",
    "    plt.tight_layout()\n",
    "    os.makedirs(f'boxplot_pv/{group}', exist_ok=True)\n",
    "\n",
    "    if name == \"Max Area / Total Area\" :\n",
    "        plt.savefig(f'boxplot_pv/{group}/MaxTotal.tif', dpi=300, format=\"tiff\", pil_kwargs={\"compression\": \"tiff_lzw\"})\n",
    "    elif name == \"Deg 3 / Deg 1\":\n",
    "        plt.savefig(f'boxplot_pv/{group}/Deg3_to_Deg1.tif', dpi=300, format=\"tiff\", pil_kwargs={\"compression\": \"tiff_lzw\"})\n",
    "    else:\n",
    "        plt.savefig(f'boxplot_pv/{group}/{name}.tif', dpi=300, format=\"tiff\", pil_kwargs={\"compression\": \"tiff_lzw\"})\n",
    "    plt.gcf()"
   ]
  },
  {
   "cell_type": "code",
   "execution_count": null,
   "metadata": {},
   "outputs": [],
   "source": [
    "APS_0X_dir = \"./data/Analyze_Particle_Summary/control\"\n",
    "APS_05X_dir = \"./data/Analyze_Particle_Summary/FCCP\"\n",
    "APS_1X_dir = \"./data/Analyze_Particle_Summary/oligomycin\"\n",
    "APS_2X_dir = \"./data/Analyze_Particle_Summary/rotenone\"\n",
    "# get the filename list\n",
    "file_name_APS_0X = []\n",
    "file_name_APS_05X = []\n",
    "file_name_APS_1X = []\n",
    "file_name_APS_2X = []\n",
    "for filename in os.listdir(APS_0X_dir):\n",
    "    if filename.endswith(\".csv\"):\n",
    "        file_name_APS_0X.append(filename)\n",
    "for filename in os.listdir(APS_05X_dir):\n",
    "    if filename.endswith(\".csv\"):\n",
    "        file_name_APS_05X.append(filename)\n",
    "for filename in os.listdir(APS_1X_dir):\n",
    "    if filename.endswith(\".csv\"):\n",
    "        file_name_APS_1X.append(filename)\n",
    "for filename in os.listdir(APS_2X_dir):\n",
    "    if filename.endswith(\".csv\"):\n",
    "        file_name_APS_2X.append(filename)"
   ]
  },
  {
   "cell_type": "code",
   "execution_count": null,
   "metadata": {},
   "outputs": [],
   "source": [
    "glu = [\"control\", \"FCCP\", \"oligomycin\", \"rotenone\"]\n",
    "file_name_APS_list = [file_name_APS_0X, file_name_APS_05X, file_name_APS_1X, file_name_APS_2X]\n",
    "Count = [[],[],[],[]]\n",
    "nCount = [[],[],[],[]]\n",
    "TotalArea = [[],[],[],[]]\n",
    "AverageArea = [[],[],[],[]]\n",
    "Perimeter = [[],[],[],[]]\n",
    "FormFactor = [[],[],[],[]]\n",
    "\n",
    "for i in range(len(glu)):\n",
    "    for j in range(len(file_name_APS_list[i])):\n",
    "        df = pd.read_csv(f'./data/Analyze_Particle_Summary/{glu[i]}/{file_name_APS_list[i][j]}', index_col=0)\n",
    "        Count[i].append(float(df['Count'].iloc[0]))\n",
    "        TotalArea[i].append(float(df['Total Area'].iloc[0]))\n",
    "        AverageArea[i].append(float(df['Average Size'].iloc[0]))\n",
    "        Perimeter[i].append(float(df['Perim.'].iloc[0]))\n",
    "        FormFactor[i].append(np.reciprocal(float(df['Circ.'].iloc[0])))\n",
    "        nCount[i].append(float(df['Count'].iloc[0])/float(df['Total Area'].iloc[0]))"
   ]
  },
  {
   "cell_type": "code",
   "execution_count": null,
   "metadata": {},
   "outputs": [],
   "source": [
    "# define the directory of the csv\n",
    "# APR = Analyze Particle Results\n",
    "APR_0X_dir = './data/Analyze_Particle_Results/control'\n",
    "APR_05X_dir = './data/Analyze_Particle_Results/FCCP'\n",
    "APR_1X_dir = './data/Analyze_Particle_Results/oligomycin'\n",
    "APR_2X_dir = './data/Analyze_Particle_Results/Rotenone'\n",
    "\n",
    "# get the filename list\n",
    "file_name_APR_0X = []\n",
    "file_name_APR_05X = []\n",
    "file_name_APR_1X = []\n",
    "file_name_APR_2X = []\n",
    "\n",
    "for filename in os.listdir(APR_0X_dir):\n",
    "    if filename.endswith(\".csv\"):\n",
    "        file_name_APR_0X.append(filename)\n",
    "for filename in os.listdir(APR_05X_dir):\n",
    "    if filename.endswith(\".csv\"):\n",
    "        file_name_APR_05X.append(filename)\n",
    "for filename in os.listdir(APR_1X_dir):\n",
    "    if filename.endswith(\".csv\"):\n",
    "        file_name_APR_1X.append(filename)\n",
    "for filename in os.listdir(APR_2X_dir):\n",
    "    if filename.endswith(\".csv\"):\n",
    "        file_name_APR_2X.append(filename)"
   ]
  },
  {
   "cell_type": "code",
   "execution_count": null,
   "metadata": {},
   "outputs": [],
   "source": [
    "glu = [\"control\", \"FCCP\", \"oligomycin\", \"rotenone\"]\n",
    "file_name_APR_list = [file_name_APR_0X, file_name_APR_05X, file_name_APR_1X, file_name_APR_2X]\n",
    "AspectRatio = [[],[],[],[],]\n",
    "MaxArea = [[],[],[],[],]\n",
    "\n",
    "for i in range(len(glu)):\n",
    "    for j in range(len(file_name_APS_list[i])):\n",
    "        df = pd.read_csv(f'./data/Analyze_Particle_Results/{glu[i]}/{file_name_APR_list[i][j]}', index_col=0)\n",
    "        AspectRatio[i].append(df['AR'].mean())\n",
    "        MaxArea[i].append(df.loc[df['Area'].idxmax()]['Area'])"
   ]
  },
  {
   "cell_type": "code",
   "execution_count": null,
   "metadata": {},
   "outputs": [],
   "source": [
    "total_area_0X_np = np.array(TotalArea[0])\n",
    "total_area_05X_np = np.array(TotalArea[1])\n",
    "total_area_1X_np = np.array(TotalArea[2])\n",
    "total_area_2X_np = np.array(TotalArea[3])\n",
    "\n",
    "max_area_0X_np = np.array(MaxArea[0])\n",
    "max_area_05X_np = np.array(MaxArea[1])\n",
    "max_area_1X_np = np.array(MaxArea[2])\n",
    "max_area_2X_np = np.array(MaxArea[3])\n",
    "\n",
    "temp_data_0X = max_area_0X_np/total_area_0X_np\n",
    "temp_data_05X = max_area_05X_np/total_area_05X_np\n",
    "temp_data_1X = max_area_1X_np/total_area_1X_np\n",
    "temp_data_2X = max_area_2X_np/total_area_2X_np\n",
    "MaxTotal = [temp_data_0X, temp_data_05X, temp_data_1X, temp_data_2X]"
   ]
  },
  {
   "cell_type": "code",
   "execution_count": null,
   "metadata": {},
   "outputs": [],
   "source": [
    "# define the directory of the csv\n",
    "# APR = Analyze Particle Results\n",
    "SR_0X_dir = './data/Skeleton_Results/control'\n",
    "SR_05X_dir = './data/Skeleton_Results/FCCP'\n",
    "SR_1X_dir = './data/Skeleton_Results/oligomycin'\n",
    "SR_2X_dir = './data/Skeleton_Results/rotenone'\n",
    "\n",
    "# get the filename list\n",
    "file_name_SR_0X = []\n",
    "file_name_SR_05X = []\n",
    "file_name_SR_1X = []\n",
    "file_name_SR_2X = []\n",
    "\n",
    "for filename in os.listdir(SR_0X_dir):\n",
    "    if filename.endswith(\".csv\"):\n",
    "        file_name_SR_0X.append(filename)\n",
    "for filename in os.listdir(SR_05X_dir):\n",
    "    if filename.endswith(\".csv\"):\n",
    "        file_name_SR_05X.append(filename)\n",
    "for filename in os.listdir(SR_1X_dir):\n",
    "    if filename.endswith(\".csv\"):\n",
    "        file_name_SR_1X.append(filename)\n",
    "for filename in os.listdir(SR_2X_dir):\n",
    "    if filename.endswith(\".csv\"):\n",
    "        file_name_SR_2X.append(filename)\n",
    "\n",
    "glu = [\"control\", \"FCCP\", \"oligomycin\", \"rotenone\"]\n",
    "file_name_SR_list = [file_name_SR_0X, file_name_SR_05X, file_name_SR_1X, file_name_SR_2X]\n",
    "\n",
    "TotalBranches = [[],[],[],[]]\n",
    "AvgBranches = [[],[],[],[]]\n",
    "ABL = [[],[],[],[]]\n",
    "BLpM = [[],[],[],[]]\n",
    "TotalDeg1 = [[],[],[],[]]\n",
    "TotalDeg2 = [[],[],[],[]]\n",
    "TotalDeg3 = [[],[],[],[]]\n",
    "AvgDeg1 = [[],[],[],[]]\n",
    "AvgDeg2 = [[],[],[],[]]\n",
    "AvgDeg3 = [[],[],[],[]]\n",
    "AvgDeg = [[],[],[],[]]\n",
    "\n",
    "\n",
    "for i in range(len(glu)):\n",
    "    for j in range(len(file_name_SR_list[i])):\n",
    "        df = pd.read_csv(f'./data/Skeleton_Results/{glu[i]}/{file_name_SR_list[i][j]}', index_col=0)\n",
    "        # Calculate deg 2\n",
    "        fake_deg2 = np.zeros(df[df.columns[0]].count())\n",
    "        deg2 = np.zeros(df[df.columns[0]].count())\n",
    "        real_ABL = np.sum(df['# Branches'] * df['Average Branch Length']) / np.sum(df['# Branches'])\n",
    "        for k in range(len(deg2)):\n",
    "            fake_deg2[k] = (df['# Branches'][k+1] * df['Average Branch Length'][k+1]) / real_ABL\n",
    "            dif = round(fake_deg2[k] - (df['# End-point voxels'][k+1] + df['# Junctions'][k+1])) # dif = #2 - (#1 + #3), 0)\n",
    "\n",
    "            if dif <= 0:\n",
    "                deg2[k] = 0\n",
    "            elif dif > 0 :\n",
    "                deg2[k] = dif\n",
    "        df['fake_Deg2'] = fake_deg2\n",
    "        df['Deg2'] = deg2\n",
    "\n",
    "        TotalBranches[i].append(df['# Branches'].sum())\n",
    "        AvgBranches[i].append(df['# Branches'].mean())\n",
    "        ABL[i].append(df['Average Branch Length'].mean())\n",
    "        BLpM[i].append((df['# Branches'] * df['Average Branch Length']).mean())\n",
    "        TotalDeg1[i].append(df['# End-point voxels'].sum())\n",
    "        TotalDeg2[i].append(df['Deg2'].sum())\n",
    "        TotalDeg3[i].append(df['# Junctions'].sum())\n",
    "        AvgDeg1[i].append(df['# End-point voxels'].mean())\n",
    "        AvgDeg2[i].append(df['Deg2'].mean())\n",
    "        AvgDeg3[i].append(df['# Junctions'].mean())\n",
    "        avgdeg = (df['# End-point voxels'].sum() + 2*df['Deg2'].sum() + 3*df['# Junctions'].sum()) / (df['# End-point voxels'].sum() + df['Deg2'].sum() + df['# Junctions'].sum())\n",
    "        AvgDeg[i].append(avgdeg)\n",
    "\n",
    "TotalDeg1_0X_np = np.array(TotalDeg1[0])\n",
    "TotalDeg1_05X_np = np.array(TotalDeg1[1])\n",
    "TotalDeg1_1X_np = np.array(TotalDeg1[2])\n",
    "TotalDeg1_2X_np = np.array(TotalDeg1[3])\n",
    "\n",
    "TotalDeg2_0X_np = np.array(TotalDeg2[0])\n",
    "TotalDeg2_05X_np = np.array(TotalDeg2[1])\n",
    "TotalDeg2_1X_np = np.array(TotalDeg2[2])\n",
    "TotalDeg2_2X_np = np.array(TotalDeg2[3])\n",
    "\n",
    "TotalDeg3_0X_np = np.array(TotalDeg3[0])\n",
    "TotalDeg3_05X_np = np.array(TotalDeg3[1])\n",
    "TotalDeg3_1X_np = np.array(TotalDeg3[2])\n",
    "TotalDeg3_2X_np = np.array(TotalDeg3[3])\n",
    "\n",
    "# Deg3_to_Deg1\n",
    "temp_data_0X = TotalDeg3_0X_np/TotalDeg1_0X_np\n",
    "temp_data_05X = TotalDeg3_05X_np/TotalDeg1_05X_np\n",
    "temp_data_1X = TotalDeg3_1X_np/TotalDeg1_1X_np\n",
    "temp_data_2X = TotalDeg3_2X_np/TotalDeg1_2X_np\n",
    "Deg3_to_Deg1 = [temp_data_0X, temp_data_05X, temp_data_1X, temp_data_2X]\n",
    "\n",
    "# nDeg1\n",
    "temp_data_0X = TotalDeg1_0X_np/total_area_0X_np\n",
    "temp_data_05X = TotalDeg1_05X_np/total_area_05X_np\n",
    "temp_data_1X = TotalDeg1_1X_np/total_area_1X_np\n",
    "temp_data_2X = TotalDeg1_2X_np/total_area_2X_np\n",
    "nDeg1 = [temp_data_0X, temp_data_05X, temp_data_1X, temp_data_2X]\n",
    "\n",
    "#nDeg2\n",
    "temp_data_0X = TotalDeg2_0X_np/total_area_0X_np\n",
    "temp_data_05X = TotalDeg2_05X_np/total_area_05X_np\n",
    "temp_data_1X = TotalDeg2_1X_np/total_area_1X_np\n",
    "temp_data_2X = TotalDeg2_2X_np/total_area_2X_np\n",
    "nDeg2 = [temp_data_0X, temp_data_05X, temp_data_1X, temp_data_2X]\n",
    "\n",
    "#nDeg3\n",
    "temp_data_0X = TotalDeg3_0X_np/total_area_0X_np\n",
    "temp_data_05X = TotalDeg3_05X_np/total_area_05X_np\n",
    "temp_data_1X = TotalDeg3_1X_np/total_area_1X_np\n",
    "temp_data_2X = TotalDeg3_2X_np/total_area_2X_np\n",
    "nDeg3 = [temp_data_0X, temp_data_05X, temp_data_1X, temp_data_2X]"
   ]
  },
  {
   "cell_type": "code",
   "execution_count": null,
   "metadata": {},
   "outputs": [],
   "source": [
    "data_0X = {'Count': Count[0],\n",
    "           'nCount': nCount[0],\n",
    "           \"TotalArea\": TotalArea[0],\n",
    "           \"AverageArea\": AverageArea[0],\n",
    "           \"Perimeter\": Perimeter[0],\n",
    "           \"FormFactor\": FormFactor[0],\n",
    "           \"AspectRatio\": AspectRatio[0],\n",
    "           \"MaxTotal\": MaxTotal[0],\n",
    "           \"TotalBranches\": TotalBranches[0],\n",
    "           \"AvgBranches\": AvgBranches[0],\n",
    "           \"ABL\": ABL[0],\n",
    "           \"BLpM\": BLpM[0],\n",
    "           \"TotalDeg1\": TotalDeg1[0],\n",
    "           \"TotalDeg2\": TotalDeg2[0],\n",
    "           \"TotalDeg3\": TotalDeg3[0],\n",
    "           \"AvgDeg1\": AvgDeg1[0],\n",
    "           \"AvgDeg2\": AvgDeg2[0],\n",
    "           \"AvgDeg3\": AvgDeg3[0],\n",
    "           \"nDeg1\": nDeg1[0],\n",
    "           \"nDeg2\": nDeg2[0],\n",
    "           \"nDeg3\": nDeg3[0],\n",
    "           \"AvgDeg\": AvgDeg[0],\n",
    "           \"Deg3_to_Deg1\": Deg3_to_Deg1[0],\n",
    "          }\n",
    "\n",
    "df_0X = pd.DataFrame(data=data_0X)\n",
    "df_0X.index = np.arange(1, len(df_0X) + 1)"
   ]
  },
  {
   "cell_type": "code",
   "execution_count": null,
   "metadata": {},
   "outputs": [],
   "source": [
    "data_1X = {'Count': Count[1],\n",
    "           'nCount': nCount[1],\n",
    "           \"TotalArea\": TotalArea[1],\n",
    "           \"AverageArea\": AverageArea[1],\n",
    "           \"Perimeter\": Perimeter[1],\n",
    "           \"FormFactor\": FormFactor[1],\n",
    "           \"AspectRatio\": AspectRatio[1],\n",
    "           \"MaxTotal\": MaxTotal[1],\n",
    "           \"TotalBranches\": TotalBranches[1],\n",
    "           \"AvgBranches\": AvgBranches[1],\n",
    "           \"ABL\": ABL[1],\n",
    "           \"BLpM\": BLpM[1],\n",
    "           \"TotalDeg1\": TotalDeg1[1],\n",
    "           \"TotalDeg2\": TotalDeg2[1],\n",
    "           \"TotalDeg3\": TotalDeg3[1],\n",
    "           \"AvgDeg1\": AvgDeg1[1],\n",
    "           \"AvgDeg2\": AvgDeg2[1],\n",
    "           \"AvgDeg3\": AvgDeg3[1],\n",
    "           \"nDeg1\": nDeg1[1],\n",
    "           \"nDeg2\": nDeg2[1],\n",
    "           \"nDeg3\": nDeg3[1],\n",
    "           \"AvgDeg\": AvgDeg[1],\n",
    "           \"Deg3_to_Deg1\": Deg3_to_Deg1[1],\n",
    "          }\n",
    "\n",
    "df_1X = pd.DataFrame(data=data_1X)\n",
    "df_1X.index = np.arange(1, len(df_1X) + 1)"
   ]
  },
  {
   "cell_type": "code",
   "execution_count": null,
   "metadata": {},
   "outputs": [],
   "source": [
    "data_3X = {'Count': Count[2],\n",
    "           'nCount': nCount[2],\n",
    "           \"TotalArea\": TotalArea[2],\n",
    "           \"AverageArea\": AverageArea[2],\n",
    "           \"Perimeter\": Perimeter[2],\n",
    "           \"FormFactor\": FormFactor[2],\n",
    "           \"AspectRatio\": AspectRatio[2],\n",
    "           \"MaxTotal\": MaxTotal[2],\n",
    "           \"TotalBranches\": TotalBranches[2],\n",
    "           \"AvgBranches\": AvgBranches[2],\n",
    "           \"ABL\": ABL[2],\n",
    "           \"BLpM\": BLpM[2],\n",
    "           \"TotalDeg1\": TotalDeg1[2],\n",
    "           \"TotalDeg2\": TotalDeg2[2],\n",
    "           \"TotalDeg3\": TotalDeg3[2],\n",
    "           \"AvgDeg1\": AvgDeg1[2],\n",
    "           \"AvgDeg2\": AvgDeg2[2],\n",
    "           \"AvgDeg3\": AvgDeg3[2],\n",
    "           \"nDeg1\": nDeg1[2],\n",
    "           \"nDeg2\": nDeg2[2],\n",
    "           \"nDeg3\": nDeg3[2],\n",
    "           \"AvgDeg\": AvgDeg[2],\n",
    "           \"Deg3_to_Deg1\": Deg3_to_Deg1[2],\n",
    "          }\n",
    "\n",
    "df_3X = pd.DataFrame(data=data_3X)\n",
    "df_3X.index = np.arange(1, len(df_3X) + 1)"
   ]
  },
  {
   "cell_type": "code",
   "execution_count": null,
   "metadata": {},
   "outputs": [],
   "source": [
    "data_6X = {'Count': Count[3],\n",
    "           'nCount': nCount[3],\n",
    "           \"TotalArea\": TotalArea[3],\n",
    "           \"AverageArea\": AverageArea[3],\n",
    "           \"Perimeter\": Perimeter[3],\n",
    "           \"FormFactor\": FormFactor[3],\n",
    "           \"AspectRatio\": AspectRatio[3],\n",
    "           \"MaxTotal\": MaxTotal[3],\n",
    "           \"TotalBranches\": TotalBranches[3],\n",
    "           \"AvgBranches\": AvgBranches[3],\n",
    "           \"ABL\": ABL[3],\n",
    "           \"BLpM\": BLpM[3],\n",
    "           \"TotalDeg1\": TotalDeg1[3],\n",
    "           \"TotalDeg2\": TotalDeg2[3],\n",
    "           \"TotalDeg3\": TotalDeg3[3],\n",
    "           \"AvgDeg1\": AvgDeg1[3],\n",
    "           \"AvgDeg2\": AvgDeg2[3],\n",
    "           \"AvgDeg3\": AvgDeg3[3],\n",
    "           \"nDeg1\": nDeg1[3],\n",
    "           \"nDeg2\": nDeg2[3],\n",
    "           \"nDeg3\": nDeg3[3],\n",
    "           \"AvgDeg\": AvgDeg[3],\n",
    "           \"Deg3_to_Deg1\": Deg3_to_Deg1[3],\n",
    "          }\n",
    "\n",
    "df_6X = pd.DataFrame(data=data_6X)\n",
    "df_6X.index = np.arange(1, len(df_6X) + 1)"
   ]
  },
  {
   "cell_type": "markdown",
   "metadata": {},
   "source": [
    "## Box plots"
   ]
  },
  {
   "cell_type": "code",
   "execution_count": null,
   "metadata": {},
   "outputs": [],
   "source": [
    "Plot4_seaborn(Count, \"Count\", unit = \"count\", group = \"all/particle\")"
   ]
  },
  {
   "cell_type": "code",
   "execution_count": null,
   "metadata": {},
   "outputs": [],
   "source": [
    "Plot4_seaborn(Count, \"Count\", unit = \"count\", group = \"all/particle\")"
   ]
  },
  {
   "cell_type": "code",
   "execution_count": null,
   "metadata": {},
   "outputs": [],
   "source": [
    "Plot4_seaborn(nCount, \"Normalized Count\", unit = \"count\", group = \"all/particle\")"
   ]
  },
  {
   "cell_type": "code",
   "execution_count": null,
   "metadata": {},
   "outputs": [],
   "source": [
    "Plot4_seaborn(TotalArea, \"Total Area\", unit = \"area\", group = \"all/particle\")"
   ]
  },
  {
   "cell_type": "code",
   "execution_count": null,
   "metadata": {},
   "outputs": [],
   "source": [
    "Plot4_seaborn(AverageArea, \"Average Area\", unit = \"area\", group = \"all/particle\")"
   ]
  },
  {
   "cell_type": "code",
   "execution_count": null,
   "metadata": {},
   "outputs": [],
   "source": [
    "Plot4_seaborn(Perimeter, \"Perimeter\", unit = \"length\", group = \"all/particle\")"
   ]
  },
  {
   "cell_type": "code",
   "execution_count": null,
   "metadata": {},
   "outputs": [],
   "source": [
    "Plot4_seaborn(FormFactor, \"Form Factor\", unit = \"a.u.\", group = \"all/particle\")"
   ]
  },
  {
   "cell_type": "code",
   "execution_count": null,
   "metadata": {},
   "outputs": [],
   "source": [
    "Plot4_seaborn(AspectRatio, \"Aspect Ratio\", unit = \"a.u.\", group = \"all/particle\")"
   ]
  },
  {
   "cell_type": "code",
   "execution_count": null,
   "metadata": {
    "collapsed": true,
    "jupyter": {
     "outputs_hidden": true
    }
   },
   "outputs": [],
   "source": [
    "Plot4_seaborn(MaxTotal, \"Max Area / Total Area\", unit = \"ratio\", group = \"all/particle\")"
   ]
  },
  {
   "cell_type": "code",
   "execution_count": null,
   "metadata": {},
   "outputs": [],
   "source": [
    "Plot4_seaborn(TotalBranches, 'Total Branches', unit = 'count', group = \"all/skeleton\")"
   ]
  },
  {
   "cell_type": "code",
   "execution_count": null,
   "metadata": {},
   "outputs": [],
   "source": [
    "Plot4_seaborn(AvgBranches, 'Average Branches', unit = 'count', group = \"all/skeleton\")"
   ]
  },
  {
   "cell_type": "code",
   "execution_count": null,
   "metadata": {},
   "outputs": [],
   "source": [
    "Plot4_seaborn(ABL, 'Average Branch Length', unit = 'length', group = \"all/skeleton\")"
   ]
  },
  {
   "cell_type": "code",
   "execution_count": null,
   "metadata": {},
   "outputs": [],
   "source": [
    "Plot4_seaborn(BLpM, 'Branch Length Per Mito', unit = 'length', group = \"all/skeleton\")"
   ]
  },
  {
   "cell_type": "code",
   "execution_count": null,
   "metadata": {},
   "outputs": [],
   "source": [
    "Plot4_seaborn(TotalDeg1, 'Total Deg 1', unit = 'count', group = \"all/skeleton\")"
   ]
  },
  {
   "cell_type": "code",
   "execution_count": null,
   "metadata": {},
   "outputs": [],
   "source": [
    "Plot4_seaborn(TotalDeg2, 'Total Deg 2', unit = 'count', group = \"all/skeleton\")"
   ]
  },
  {
   "cell_type": "code",
   "execution_count": null,
   "metadata": {},
   "outputs": [],
   "source": [
    "Plot4_seaborn(TotalDeg3, 'Total Deg 3', unit = 'count', group = \"all/skeleton\")"
   ]
  },
  {
   "cell_type": "code",
   "execution_count": null,
   "metadata": {},
   "outputs": [],
   "source": [
    "Plot4_seaborn(AvgDeg1, 'Average Deg 1', unit = 'count', group = \"all/skeleton\")"
   ]
  },
  {
   "cell_type": "code",
   "execution_count": null,
   "metadata": {},
   "outputs": [],
   "source": [
    "Plot4_seaborn(AvgDeg2, 'Average Deg 2', unit = 'count', group = \"all/skeleton\")"
   ]
  },
  {
   "cell_type": "code",
   "execution_count": null,
   "metadata": {},
   "outputs": [],
   "source": [
    "Plot4_seaborn(AvgDeg3, 'Average Deg 3', unit = 'count', group = \"all/skeleton\")"
   ]
  },
  {
   "cell_type": "code",
   "execution_count": null,
   "metadata": {},
   "outputs": [],
   "source": [
    "Plot4_seaborn(nDeg1, 'Normalized Deg 1', unit = 'count', group = \"all/skeleton\")"
   ]
  },
  {
   "cell_type": "code",
   "execution_count": null,
   "metadata": {},
   "outputs": [],
   "source": [
    "Plot4_seaborn(nDeg2, 'Normalized Deg 2', unit = 'count', group = \"all/skeleton\")"
   ]
  },
  {
   "cell_type": "code",
   "execution_count": null,
   "metadata": {},
   "outputs": [],
   "source": [
    "Plot4_seaborn(nDeg3, 'Normalized Deg 3',  unit = 'count', group = \"all/skeleton\")"
   ]
  },
  {
   "cell_type": "code",
   "execution_count": null,
   "metadata": {},
   "outputs": [],
   "source": [
    "Plot4_seaborn(AvgDeg, 'Average Degree', unit = 'count', group = \"all/skeleton\")"
   ]
  },
  {
   "cell_type": "code",
   "execution_count": null,
   "metadata": {
    "collapsed": true,
    "jupyter": {
     "outputs_hidden": true
    }
   },
   "outputs": [],
   "source": [
    "Plot4_seaborn(Deg3_to_Deg1, \"Deg 3 / Deg 1\", unit = 'ratio', group = \"all/skeleton\")"
   ]
  }
 ],
 "metadata": {
  "kernelspec": {
   "display_name": "boxplot",
   "language": "python",
   "name": "python3"
  },
  "language_info": {
   "codemirror_mode": {
    "name": "ipython",
    "version": 3
   },
   "file_extension": ".py",
   "mimetype": "text/x-python",
   "name": "python",
   "nbconvert_exporter": "python",
   "pygments_lexer": "ipython3",
   "version": "3.12.4"
  }
 },
 "nbformat": 4,
 "nbformat_minor": 4
}
